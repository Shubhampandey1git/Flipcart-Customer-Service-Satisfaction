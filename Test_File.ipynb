{
 "cells": [
  {
   "cell_type": "markdown",
   "metadata": {
    "id": "vncDsAP0Gaoa"
   },
   "source": [
    "# **Project Name**    - Flipcart Customer Service Satisfaction\n",
    "\n"
   ]
  },
  {
   "cell_type": "markdown",
   "metadata": {
    "id": "beRrZCGUAJYm"
   },
   "source": [
    "##### **Project Type**    - Classification\n",
    "##### **Contribution**    - Individual\n",
    "##### **Member -**  Shubham Pandey"
   ]
  },
  {
   "cell_type": "markdown",
   "metadata": {
    "id": "FJNUwmbgGyua"
   },
   "source": [
    "# **Project Summary -**"
   ]
  },
  {
   "cell_type": "markdown",
   "metadata": {
    "id": "F6v_1wHtG2nS"
   },
   "source": [
    "Customer satisfaction is a critical metric for the long-term success of service-driven platforms like Flipkart. This project aimed to develop a machine learning model that classifies customer service satisfaction (CSAT) using a combination of structured and unstructured data. The primary goal was to accurately identify dissatisfied customers so that proactive measures could be taken to enhance support quality and improve overall customer experience.\n",
    "\n",
    "**Problem Statement**\n",
    "The problem was framed as a binary classification task. The CSAT score, originally a continuous or categorical metric, was converted into a binary target variable CSAT_binary:\n",
    "\n",
    "- Class 1: Satisfied\n",
    "\n",
    "- Class 0: Dissatisfied\n",
    "\n",
    "The dataset included a wide variety of features such as:\n",
    "\n",
    "- Categorical variables (e.g., channel name, agent name, supervisor)\n",
    "\n",
    "- Temporal features (e.g., date and time of issue raised/responded)\n",
    "\n",
    "- Textual data (e.g., customer remarks)\n",
    "\n",
    "- Engineered variables (e.g., response time in hours, frequency of agent assignments, issue reported on weekend)\n",
    "\n",
    "**Data Preprocessing and Feature Engineering**\n",
    "Several preprocessing steps were performed to clean and structure the data effectively:\n",
    "\n",
    "- Missing values were handled appropriately for categorical and text-based features.\n",
    "\n",
    "- Features with very low variance were removed to reduce dimensionality.\n",
    "\n",
    "- Highly correlated features were dropped to prevent multicollinearity.\n",
    "\n",
    "- Temporal features were transformed to extract useful information such as day of the week, weekend flag, and response time buckets.\n",
    "\n",
    "- The textual field \"Customer Remarks\" was tokenized, POS-tagged, and transformed using TF-IDF vectorization to convert text into numerical representations.\n",
    "\n",
    "- Additional features like “Tenure_Shift” and agent workload frequency were engineered to enhance model performance.\n",
    "\n",
    "**Handling Class Imbalance**\n",
    "Since the dataset was imbalanced with a higher number of satisfied customers, balancing techniques were applied:\n",
    "\n",
    "- Random Forest was trained using class_weight='balanced'.\n",
    "\n",
    "- XGBoost used scale_pos_weight to adjust class imbalance.\n",
    "\n",
    "- CatBoost utilized auto_class_weights='Balanced'.\n",
    "\n",
    "These adjustments helped ensure the model gave due importance to the minority class (dissatisfied customers).\n",
    "\n",
    "**Model Development and Evaluation**\n",
    "Three models were implemented:\n",
    "\n",
    "- Random Forest Classifier\n",
    "\n",
    "- XGBoost Classifier\n",
    "\n",
    "- CatBoost Classifier\n",
    "\n",
    "Each model was evaluated using metrics such as accuracy, precision, recall, and F1-score. Given the business context, special emphasis was placed on recall and F1-score for the dissatisfied class, as missing a dissatisfied customer could lead to missed opportunities for service recovery and retention.\n",
    "\n",
    "After baseline evaluations, hyperparameter tuning was conducted using:\n",
    "\n",
    "- RandomizedSearchCV for Random Forest and XGBoost\n",
    "\n",
    "- Optuna (Bayesian Optimization) for CatBoost\n",
    "\n",
    "The CatBoost model performed best after tuning:\n",
    "\n",
    "- Accuracy: 85%\n",
    "\n",
    "- Recall (for satisfied class): 99%\n",
    "\n",
    "- F1-score (overall): 0.91\n",
    "\n",
    "Although recall for the dissatisfied class remained lower, CatBoost still offered the most balanced and robust performance overall.\n",
    "\n",
    "**Model Explainability and Deployment**\n",
    "To ensure interpretability, SHAP (SHapley Additive exPlanations) was used to visualize feature importance. Key influencing factors included response time, agent name, channel of contact, and sub-category of issues.\n",
    "\n",
    "The final CatBoost model was serialized using joblib and tested on unseen data samples, validating its predictive capabilities. The model is now ready for integration into a live support system or dashboard.\n",
    "\n",
    "**Conclusion**\n",
    "This project successfully developed a machine learning pipeline capable of predicting customer satisfaction with high accuracy and strong generalization. With proper deployment, the model can help Flipkart's customer service team prioritize dissatisfied users, leading to faster resolutions, improved service experience, and increased customer retention"
   ]
  },
  {
   "cell_type": "markdown",
   "metadata": {
    "id": "w6K7xa23Elo4"
   },
   "source": [
    "# **GitHub Link -**"
   ]
  },
  {
   "cell_type": "markdown",
   "metadata": {
    "id": "h1o69JH3Eqqn"
   },
   "source": [
    "https://github.com/Shubhampandey1git/Flipcart-Customer-Service-Satisfaction\n"
   ]
  },
  {
   "cell_type": "markdown",
   "metadata": {
    "id": "yQaldy8SH6Dl"
   },
   "source": [
    "# **Problem Statement**\n"
   ]
  },
  {
   "cell_type": "markdown",
   "metadata": {
    "id": "DpeJGUA3kjGy"
   },
   "source": [
    "Flipkart, one of India's largest e-commerce platforms, receives a vast number of customer service requests daily across multiple support channels. While Customer Satisfaction (CSAT) scores are collected post-resolution, predicting customer satisfaction ahead of time remains a challenge.\n",
    "\n",
    "The goal of this project is to analyze and classify customer satisfaction (CSAT) based on service request data using machine learning techniques. By identifying key factors—such as response time, issue category, agent attributes, and ticket metadata—we aim to:\n",
    "\n",
    "Predict whether a customer is likely to be satisfied or unsatisfied with the service they received.\n",
    "\n",
    "Uncover actionable insights into what drives satisfaction or dissatisfaction.\n",
    "\n",
    "Improve overall customer service performance by informing business decisions with data.\n",
    "\n",
    "This classification will help Flipkart proactively enhance customer experience, optimize agent performance, and prioritize support strategies."
   ]
  },
  {
   "cell_type": "markdown",
   "metadata": {
    "id": "mDgbUHAGgjLW"
   },
   "source": [
    "# **General Guidelines** : -  "
   ]
  },
  {
   "cell_type": "markdown",
   "metadata": {
    "id": "ZrxVaUj-hHfC"
   },
   "source": [
    "1.   Well-structured, formatted, and commented code is required.\n",
    "2.   Exception Handling, Production Grade Code & Deployment Ready Code will be a plus. Those students will be awarded some additional credits.\n",
    "     \n",
    "     The additional credits will have advantages over other students during Star Student selection.\n",
    "       \n",
    "             [ Note: - Deployment Ready Code is defined as, the whole .ipynb notebook should be executable in one go\n",
    "                       without a single error logged. ]\n",
    "\n",
    "3.   Each and every logic should have proper comments.\n",
    "4. You may add as many number of charts you want. Make Sure for each and every chart the following format should be answered.\n",
    "        \n",
    "\n",
    "```\n",
    "# Chart visualization code\n",
    "```\n",
    "            \n",
    "\n",
    "*   Why did you pick the specific chart?\n",
    "*   What is/are the insight(s) found from the chart?\n",
    "* Will the gained insights help creating a positive business impact?\n",
    "Are there any insights that lead to negative growth? Justify with specific reason.\n",
    "\n",
    "5. You have to create at least 15 logical & meaningful charts having important insights.\n",
    "\n",
    "\n",
    "[ Hints : - Do the Vizualization in  a structured way while following \"UBM\" Rule.\n",
    "\n",
    "U - Univariate Analysis,\n",
    "\n",
    "B - Bivariate Analysis (Numerical - Categorical, Numerical - Numerical, Categorical - Categorical)\n",
    "\n",
    "M - Multivariate Analysis\n",
    " ]\n",
    "\n",
    "\n",
    "\n",
    "\n",
    "\n",
    "6. You may add more ml algorithms for model creation. Make sure for each and every algorithm, the following format should be answered.\n",
    "\n",
    "\n",
    "*   Explain the ML Model used and it's performance using Evaluation metric Score Chart.\n",
    "\n",
    "\n",
    "*   Cross- Validation & Hyperparameter Tuning\n",
    "\n",
    "*   Have you seen any improvement? Note down the improvement with updates Evaluation metric Score Chart.\n",
    "\n",
    "*   Explain each evaluation metric's indication towards business and the business impact pf the ML model used.\n",
    "\n",
    "\n",
    "\n",
    "\n",
    "\n",
    "\n",
    "\n",
    "\n",
    "\n",
    "\n",
    "\n",
    "\n",
    "\n",
    "\n",
    "\n",
    "\n",
    "\n",
    "\n"
   ]
  },
  {
   "cell_type": "markdown",
   "metadata": {
    "id": "O_i_v8NEhb9l"
   },
   "source": [
    "# ***Let's Begin !***"
   ]
  },
  {
   "cell_type": "markdown",
   "metadata": {
    "id": "HhfV-JJviCcP"
   },
   "source": [
    "## ***1. Know Your Data***"
   ]
  },
  {
   "cell_type": "markdown",
   "metadata": {
    "id": "Y3lxredqlCYt"
   },
   "source": [
    "### Import Libraries"
   ]
  },
  {
   "cell_type": "code",
   "execution_count": 297,
   "metadata": {
    "id": "M8Vqi-pPk-HR"
   },
   "outputs": [
    {
     "name": "stderr",
     "output_type": "stream",
     "text": [
      "[nltk_data] Downloading package stopwords to\n",
      "[nltk_data]     C:\\Users\\ADMIN\\AppData\\Roaming\\nltk_data...\n",
      "[nltk_data]   Package stopwords is already up-to-date!\n"
     ]
    }
   ],
   "source": [
    "# Import Libraries\n",
    "# For Loading and Operating on datasets\n",
    "import pandas as pd\n",
    "\n",
    "# For Visualization\n",
    "import seaborn as sns\n",
    "import matplotlib.pyplot as plt\n",
    "import numpy as np\n",
    "\n",
    "# For Hypothesis Testing\n",
    "from scipy.stats import ttest_ind, f_oneway, chi2_contingency # for t-tests, one-way anova, and chi-square test\n",
    "\n",
    "\n",
    "# For Categorical Encoding\n",
    "from sklearn.preprocessing import LabelEncoder \n",
    "\n",
    "# For Textual Preprocessing\n",
    "import contractions # for expanding contractions\n",
    "import re\n",
    "import nltk\n",
    "nltk.download('stopwords')\n",
    "from nltk.corpus import stopwords\n",
    "from symspellpy.symspellpy import SymSpell, Verbosity # for rephrasing text\n",
    "import pkg_resources\n",
    "import os\n",
    "import spacy # for lemmetization\n",
    "from sklearn.feature_extraction.text import TfidfVectorizer  # for tf-idf vectorization\n",
    "\n",
    "# For Feature Selection\n",
    "from sklearn.feature_selection import VarianceThreshold, RFECV # for removing low-variance features and Recursive feature elimination with cross-validation\n",
    "from sklearn.ensemble import RandomForestClassifier # For tree based feature importance.\n",
    "from sklearn.feature_selection import SelectFromModel  # Recursive feature elimination with cross-validation\n",
    "\n",
    "# For Data Splitting and handling Imbalanced Dataset\n",
    "from sklearn.model_selection import train_test_split\n",
    "from xgboost import XGBClassifier\n",
    "from catboost import CatBoostClassifier, Pool\n",
    "\n",
    "# For Evaluation Metics\n",
    "from sklearn.metrics import accuracy_score, precision_score, recall_score, f1_score, confusion_matrix, ConfusionMatrixDisplay\n",
    "\n",
    "# For Hyperparameter Tuning and Cross-Validation\n",
    "from sklearn.model_selection import GridSearchCV, RandomizedSearchCV, StratifiedKFold, cross_val_score\n",
    "from sklearn.metrics import classification_report\n",
    "import optuna"
   ]
  },
  {
   "cell_type": "markdown",
   "metadata": {
    "id": "3RnN4peoiCZX"
   },
   "source": [
    "### Dataset Loading"
   ]
  },
  {
   "cell_type": "code",
   "execution_count": 298,
   "metadata": {
    "id": "4CkvbW_SlZ_R"
   },
   "outputs": [],
   "source": [
    "# Load Dataset\n",
    "df = pd.read_csv(\"Customer_support_data.csv\")  # Loading dataset as a dataframe"
   ]
  },
  {
   "cell_type": "markdown",
   "metadata": {
    "id": "x71ZqKXriCWQ"
   },
   "source": [
    "### Dataset First View"
   ]
  },
  {
   "cell_type": "code",
   "execution_count": 299,
   "metadata": {
    "id": "LWNFOSvLl09H"
   },
   "outputs": [
    {
     "data": {
      "text/html": [
       "<div>\n",
       "<style scoped>\n",
       "    .dataframe tbody tr th:only-of-type {\n",
       "        vertical-align: middle;\n",
       "    }\n",
       "\n",
       "    .dataframe tbody tr th {\n",
       "        vertical-align: top;\n",
       "    }\n",
       "\n",
       "    .dataframe thead th {\n",
       "        text-align: right;\n",
       "    }\n",
       "</style>\n",
       "<table border=\"1\" class=\"dataframe\">\n",
       "  <thead>\n",
       "    <tr style=\"text-align: right;\">\n",
       "      <th></th>\n",
       "      <th>Unique id</th>\n",
       "      <th>channel_name</th>\n",
       "      <th>category</th>\n",
       "      <th>Sub-category</th>\n",
       "      <th>Customer Remarks</th>\n",
       "      <th>Order_id</th>\n",
       "      <th>order_date_time</th>\n",
       "      <th>Issue_reported at</th>\n",
       "      <th>issue_responded</th>\n",
       "      <th>Survey_response_Date</th>\n",
       "      <th>Customer_City</th>\n",
       "      <th>Product_category</th>\n",
       "      <th>Item_price</th>\n",
       "      <th>connected_handling_time</th>\n",
       "      <th>Agent_name</th>\n",
       "      <th>Supervisor</th>\n",
       "      <th>Manager</th>\n",
       "      <th>Tenure Bucket</th>\n",
       "      <th>Agent Shift</th>\n",
       "      <th>CSAT Score</th>\n",
       "    </tr>\n",
       "  </thead>\n",
       "  <tbody>\n",
       "    <tr>\n",
       "      <th>0</th>\n",
       "      <td>7e9ae164-6a8b-4521-a2d4-58f7c9fff13f</td>\n",
       "      <td>Outcall</td>\n",
       "      <td>Product Queries</td>\n",
       "      <td>Life Insurance</td>\n",
       "      <td>NaN</td>\n",
       "      <td>c27c9bb4-fa36-4140-9f1f-21009254ffdb</td>\n",
       "      <td>NaN</td>\n",
       "      <td>01/08/2023 11:13</td>\n",
       "      <td>01/08/2023 11:47</td>\n",
       "      <td>01-Aug-23</td>\n",
       "      <td>NaN</td>\n",
       "      <td>NaN</td>\n",
       "      <td>NaN</td>\n",
       "      <td>NaN</td>\n",
       "      <td>Richard Buchanan</td>\n",
       "      <td>Mason Gupta</td>\n",
       "      <td>Jennifer Nguyen</td>\n",
       "      <td>On Job Training</td>\n",
       "      <td>Morning</td>\n",
       "      <td>5</td>\n",
       "    </tr>\n",
       "    <tr>\n",
       "      <th>1</th>\n",
       "      <td>b07ec1b0-f376-43b6-86df-ec03da3b2e16</td>\n",
       "      <td>Outcall</td>\n",
       "      <td>Product Queries</td>\n",
       "      <td>Product Specific Information</td>\n",
       "      <td>NaN</td>\n",
       "      <td>d406b0c7-ce17-4654-b9de-f08d421254bd</td>\n",
       "      <td>NaN</td>\n",
       "      <td>01/08/2023 12:52</td>\n",
       "      <td>01/08/2023 12:54</td>\n",
       "      <td>01-Aug-23</td>\n",
       "      <td>NaN</td>\n",
       "      <td>NaN</td>\n",
       "      <td>NaN</td>\n",
       "      <td>NaN</td>\n",
       "      <td>Vicki Collins</td>\n",
       "      <td>Dylan Kim</td>\n",
       "      <td>Michael Lee</td>\n",
       "      <td>&gt;90</td>\n",
       "      <td>Morning</td>\n",
       "      <td>5</td>\n",
       "    </tr>\n",
       "    <tr>\n",
       "      <th>2</th>\n",
       "      <td>200814dd-27c7-4149-ba2b-bd3af3092880</td>\n",
       "      <td>Inbound</td>\n",
       "      <td>Order Related</td>\n",
       "      <td>Installation/demo</td>\n",
       "      <td>NaN</td>\n",
       "      <td>c273368d-b961-44cb-beaf-62d6fd6c00d5</td>\n",
       "      <td>NaN</td>\n",
       "      <td>01/08/2023 20:16</td>\n",
       "      <td>01/08/2023 20:38</td>\n",
       "      <td>01-Aug-23</td>\n",
       "      <td>NaN</td>\n",
       "      <td>NaN</td>\n",
       "      <td>NaN</td>\n",
       "      <td>NaN</td>\n",
       "      <td>Duane Norman</td>\n",
       "      <td>Jackson Park</td>\n",
       "      <td>William Kim</td>\n",
       "      <td>On Job Training</td>\n",
       "      <td>Evening</td>\n",
       "      <td>5</td>\n",
       "    </tr>\n",
       "    <tr>\n",
       "      <th>3</th>\n",
       "      <td>eb0d3e53-c1ca-42d3-8486-e42c8d622135</td>\n",
       "      <td>Inbound</td>\n",
       "      <td>Returns</td>\n",
       "      <td>Reverse Pickup Enquiry</td>\n",
       "      <td>NaN</td>\n",
       "      <td>5aed0059-55a4-4ec6-bb54-97942092020a</td>\n",
       "      <td>NaN</td>\n",
       "      <td>01/08/2023 20:56</td>\n",
       "      <td>01/08/2023 21:16</td>\n",
       "      <td>01-Aug-23</td>\n",
       "      <td>NaN</td>\n",
       "      <td>NaN</td>\n",
       "      <td>NaN</td>\n",
       "      <td>NaN</td>\n",
       "      <td>Patrick Flores</td>\n",
       "      <td>Olivia Wang</td>\n",
       "      <td>John Smith</td>\n",
       "      <td>&gt;90</td>\n",
       "      <td>Evening</td>\n",
       "      <td>5</td>\n",
       "    </tr>\n",
       "    <tr>\n",
       "      <th>4</th>\n",
       "      <td>ba903143-1e54-406c-b969-46c52f92e5df</td>\n",
       "      <td>Inbound</td>\n",
       "      <td>Cancellation</td>\n",
       "      <td>Not Needed</td>\n",
       "      <td>NaN</td>\n",
       "      <td>e8bed5a9-6933-4aff-9dc6-ccefd7dcde59</td>\n",
       "      <td>NaN</td>\n",
       "      <td>01/08/2023 10:30</td>\n",
       "      <td>01/08/2023 10:32</td>\n",
       "      <td>01-Aug-23</td>\n",
       "      <td>NaN</td>\n",
       "      <td>NaN</td>\n",
       "      <td>NaN</td>\n",
       "      <td>NaN</td>\n",
       "      <td>Christopher Sanchez</td>\n",
       "      <td>Austin Johnson</td>\n",
       "      <td>Michael Lee</td>\n",
       "      <td>0-30</td>\n",
       "      <td>Morning</td>\n",
       "      <td>5</td>\n",
       "    </tr>\n",
       "  </tbody>\n",
       "</table>\n",
       "</div>"
      ],
      "text/plain": [
       "                              Unique id channel_name         category  \\\n",
       "0  7e9ae164-6a8b-4521-a2d4-58f7c9fff13f      Outcall  Product Queries   \n",
       "1  b07ec1b0-f376-43b6-86df-ec03da3b2e16      Outcall  Product Queries   \n",
       "2  200814dd-27c7-4149-ba2b-bd3af3092880      Inbound    Order Related   \n",
       "3  eb0d3e53-c1ca-42d3-8486-e42c8d622135      Inbound          Returns   \n",
       "4  ba903143-1e54-406c-b969-46c52f92e5df      Inbound     Cancellation   \n",
       "\n",
       "                   Sub-category Customer Remarks  \\\n",
       "0                Life Insurance              NaN   \n",
       "1  Product Specific Information              NaN   \n",
       "2             Installation/demo              NaN   \n",
       "3        Reverse Pickup Enquiry              NaN   \n",
       "4                    Not Needed              NaN   \n",
       "\n",
       "                               Order_id order_date_time Issue_reported at  \\\n",
       "0  c27c9bb4-fa36-4140-9f1f-21009254ffdb             NaN  01/08/2023 11:13   \n",
       "1  d406b0c7-ce17-4654-b9de-f08d421254bd             NaN  01/08/2023 12:52   \n",
       "2  c273368d-b961-44cb-beaf-62d6fd6c00d5             NaN  01/08/2023 20:16   \n",
       "3  5aed0059-55a4-4ec6-bb54-97942092020a             NaN  01/08/2023 20:56   \n",
       "4  e8bed5a9-6933-4aff-9dc6-ccefd7dcde59             NaN  01/08/2023 10:30   \n",
       "\n",
       "    issue_responded Survey_response_Date Customer_City Product_category  \\\n",
       "0  01/08/2023 11:47            01-Aug-23           NaN              NaN   \n",
       "1  01/08/2023 12:54            01-Aug-23           NaN              NaN   \n",
       "2  01/08/2023 20:38            01-Aug-23           NaN              NaN   \n",
       "3  01/08/2023 21:16            01-Aug-23           NaN              NaN   \n",
       "4  01/08/2023 10:32            01-Aug-23           NaN              NaN   \n",
       "\n",
       "   Item_price  connected_handling_time           Agent_name      Supervisor  \\\n",
       "0         NaN                      NaN     Richard Buchanan     Mason Gupta   \n",
       "1         NaN                      NaN        Vicki Collins       Dylan Kim   \n",
       "2         NaN                      NaN         Duane Norman    Jackson Park   \n",
       "3         NaN                      NaN       Patrick Flores     Olivia Wang   \n",
       "4         NaN                      NaN  Christopher Sanchez  Austin Johnson   \n",
       "\n",
       "           Manager    Tenure Bucket Agent Shift  CSAT Score  \n",
       "0  Jennifer Nguyen  On Job Training     Morning           5  \n",
       "1      Michael Lee              >90     Morning           5  \n",
       "2      William Kim  On Job Training     Evening           5  \n",
       "3       John Smith              >90     Evening           5  \n",
       "4      Michael Lee             0-30     Morning           5  "
      ]
     },
     "execution_count": 299,
     "metadata": {},
     "output_type": "execute_result"
    }
   ],
   "source": [
    "# Dataset First Look\n",
    "df.head()  # Printing the first 5 elements of the data set"
   ]
  },
  {
   "cell_type": "markdown",
   "metadata": {
    "id": "7hBIi_osiCS2"
   },
   "source": [
    "### Dataset Rows & Columns count"
   ]
  },
  {
   "cell_type": "code",
   "execution_count": 300,
   "metadata": {
    "id": "Kllu7SJgmLij"
   },
   "outputs": [
    {
     "name": "stdout",
     "output_type": "stream",
     "text": [
      "(85907, 20)\n"
     ]
    }
   ],
   "source": [
    "# Dataset Rows & Columns count\n",
    "print(df.shape)"
   ]
  },
  {
   "cell_type": "markdown",
   "metadata": {
    "id": "JlHwYmJAmNHm"
   },
   "source": [
    "### Dataset Information"
   ]
  },
  {
   "cell_type": "code",
   "execution_count": 301,
   "metadata": {
    "id": "e9hRXRi6meOf"
   },
   "outputs": [
    {
     "name": "stdout",
     "output_type": "stream",
     "text": [
      "<class 'pandas.core.frame.DataFrame'>\n",
      "RangeIndex: 85907 entries, 0 to 85906\n",
      "Data columns (total 20 columns):\n",
      " #   Column                   Non-Null Count  Dtype  \n",
      "---  ------                   --------------  -----  \n",
      " 0   Unique id                85907 non-null  object \n",
      " 1   channel_name             85907 non-null  object \n",
      " 2   category                 85907 non-null  object \n",
      " 3   Sub-category             85907 non-null  object \n",
      " 4   Customer Remarks         28742 non-null  object \n",
      " 5   Order_id                 67675 non-null  object \n",
      " 6   order_date_time          17214 non-null  object \n",
      " 7   Issue_reported at        85907 non-null  object \n",
      " 8   issue_responded          85907 non-null  object \n",
      " 9   Survey_response_Date     85907 non-null  object \n",
      " 10  Customer_City            17079 non-null  object \n",
      " 11  Product_category         17196 non-null  object \n",
      " 12  Item_price               17206 non-null  float64\n",
      " 13  connected_handling_time  242 non-null    float64\n",
      " 14  Agent_name               85907 non-null  object \n",
      " 15  Supervisor               85907 non-null  object \n",
      " 16  Manager                  85907 non-null  object \n",
      " 17  Tenure Bucket            85907 non-null  object \n",
      " 18  Agent Shift              85907 non-null  object \n",
      " 19  CSAT Score               85907 non-null  int64  \n",
      "dtypes: float64(2), int64(1), object(17)\n",
      "memory usage: 13.1+ MB\n"
     ]
    }
   ],
   "source": [
    "# Dataset Info\n",
    "df.info()"
   ]
  },
  {
   "cell_type": "markdown",
   "metadata": {
    "id": "35m5QtbWiB9F"
   },
   "source": [
    "#### Duplicate Values"
   ]
  },
  {
   "cell_type": "code",
   "execution_count": 302,
   "metadata": {
    "id": "1sLdpKYkmox0"
   },
   "outputs": [
    {
     "name": "stdout",
     "output_type": "stream",
     "text": [
      "0\n"
     ]
    }
   ],
   "source": [
    "# Dataset Duplicate Value Count\n",
    "duplicate_count = df.duplicated().sum()\n",
    "print(duplicate_count)"
   ]
  },
  {
   "cell_type": "markdown",
   "metadata": {
    "id": "PoPl-ycgm1ru"
   },
   "source": [
    "#### Missing Values/Null Values"
   ]
  },
  {
   "cell_type": "code",
   "execution_count": 303,
   "metadata": {
    "id": "GgHWkxvamxVg"
   },
   "outputs": [
    {
     "name": "stdout",
     "output_type": "stream",
     "text": [
      "Unique id                      0\n",
      "channel_name                   0\n",
      "category                       0\n",
      "Sub-category                   0\n",
      "Customer Remarks           57165\n",
      "Order_id                   18232\n",
      "order_date_time            68693\n",
      "Issue_reported at              0\n",
      "issue_responded                0\n",
      "Survey_response_Date           0\n",
      "Customer_City              68828\n",
      "Product_category           68711\n",
      "Item_price                 68701\n",
      "connected_handling_time    85665\n",
      "Agent_name                     0\n",
      "Supervisor                     0\n",
      "Manager                        0\n",
      "Tenure Bucket                  0\n",
      "Agent Shift                    0\n",
      "CSAT Score                     0\n",
      "dtype: int64\n",
      "Total missing values:  435995\n"
     ]
    }
   ],
   "source": [
    "# Missing Values/Null Values Count\n",
    "print(df.isnull().sum())\n",
    "\n",
    "# Total missing values\n",
    "print(\"Total missing values: \", df.isnull().sum().sum())"
   ]
  },
  {
   "cell_type": "code",
   "execution_count": 304,
   "metadata": {
    "id": "3q5wnI3om9sJ"
   },
   "outputs": [
    {
     "data": {
      "image/png": "[encoded data removed]",
      "text/plain": [
       "<Figure size 1200x600 with 1 Axes>"
      ]
     },
     "metadata": {},
     "output_type": "display_data"
    }
   ],
   "source": [
    "# Visualizing the missing values\n",
    "missing = df.isnull().sum()\n",
    "missing = missing[missing > 0]  # Filter only columns with missing values\n",
    "\n",
    "missing.sort_values(ascending=False).plot(kind='bar', figsize=(12, 6), color='salmon')\n",
    "plt.title(\"Missing Values Count per Column\")\n",
    "plt.ylabel(\"Number of Missing Values\")\n",
    "plt.show()"
   ]
  },
  {
   "cell_type": "markdown",
   "metadata": {
    "id": "H0kj-8xxnORC"
   },
   "source": [
    "### What did you know about your dataset?"
   ]
  },
  {
   "cell_type": "markdown",
   "metadata": {
    "id": "gfoNAAC-nUe_"
   },
   "source": [
    "Answer Here:\n",
    "1. There are in total 20 columns and 8590 rows in the dataset.\n",
    "2. There are no duplicate rows/ values in the dataset.\n",
    "3. There are in total 435995 missing values in the dataset with maximum being in 'connected_handling_time' column.\n",
    "4. The bar plot gives a great summary for how many missing values does each column have."
   ]
  },
  {
   "cell_type": "markdown",
   "metadata": {
    "id": "nA9Y7ga8ng1Z"
   },
   "source": [
    "## ***2. Understanding Your Variables***"
   ]
  },
  {
   "cell_type": "code",
   "execution_count": 305,
   "metadata": {
    "id": "j7xfkqrt5Ag5"
   },
   "outputs": [
    {
     "name": "stdout",
     "output_type": "stream",
     "text": [
      "['Unique id', 'channel_name', 'category', 'Sub-category', 'Customer Remarks', 'Order_id', 'order_date_time', 'Issue_reported at', 'issue_responded', 'Survey_response_Date', 'Customer_City', 'Product_category', 'Item_price', 'connected_handling_time', 'Agent_name', 'Supervisor', 'Manager', 'Tenure Bucket', 'Agent Shift', 'CSAT Score']\n"
     ]
    }
   ],
   "source": [
    "# Dataset Columns\n",
    "print(df.columns.tolist())"
   ]
  },
  {
   "cell_type": "code",
   "execution_count": 306,
   "metadata": {
    "id": "DnOaZdaE5Q5t"
   },
   "outputs": [
    {
     "name": "stdout",
     "output_type": "stream",
     "text": [
      "          Item_price  connected_handling_time    CSAT Score\n",
      "count   17206.000000               242.000000  85907.000000\n",
      "mean     5660.774846               462.400826      4.242157\n",
      "std     12825.728411               246.295037      1.378903\n",
      "min         0.000000                 0.000000      1.000000\n",
      "25%       392.000000               293.000000      4.000000\n",
      "50%       979.000000               427.000000      5.000000\n",
      "75%      2699.750000               592.250000      5.000000\n",
      "max    164999.000000              1986.000000      5.000000\n"
     ]
    }
   ],
   "source": [
    "# Dataset Describe\n",
    "print(df.describe())"
   ]
  },
  {
   "cell_type": "markdown",
   "metadata": {
    "id": "PBTbrJXOngz2"
   },
   "source": [
    "### Variables Description"
   ]
  },
  {
   "cell_type": "markdown",
   "metadata": {
    "id": "aJV4KIxSnxay"
   },
   "source": [
    "Answer Here:\n",
    "1. There are a total of 20 variables/ columns.\n",
    "2. There are 3 numeric type variables, namely 'Item_price', 'connected_handling_time' and 'CSAT Score'.\n",
    "3. Describe function gives us the count, mean, standard_deviation, minimum value, maximum value, and 25%, 50% and 75% respectively."
   ]
  },
  {
   "cell_type": "markdown",
   "metadata": {
    "id": "u3PMJOP6ngxN"
   },
   "source": [
    "### Check Unique Values for each variable."
   ]
  },
  {
   "cell_type": "code",
   "execution_count": 307,
   "metadata": {
    "id": "zms12Yq5n-jE"
   },
   "outputs": [
    {
     "name": "stdout",
     "output_type": "stream",
     "text": [
      "Unique id                  85907\n",
      "channel_name                   3\n",
      "category                      12\n",
      "Sub-category                  57\n",
      "Customer Remarks           18231\n",
      "Order_id                   67675\n",
      "order_date_time            13766\n",
      "Issue_reported at          30923\n",
      "issue_responded            30262\n",
      "Survey_response_Date          31\n",
      "Customer_City               1782\n",
      "Product_category               9\n",
      "Item_price                  2789\n",
      "connected_handling_time      211\n",
      "Agent_name                  1371\n",
      "Supervisor                    40\n",
      "Manager                        6\n",
      "Tenure Bucket                  5\n",
      "Agent Shift                    5\n",
      "CSAT Score                     5\n",
      "dtype: int64\n"
     ]
    }
   ],
   "source": [
    "# Check Unique Values for each variable.\n",
    "print(df.nunique())"
   ]
  },
  {
   "cell_type": "markdown",
   "metadata": {
    "id": "dauF4eBmngu3"
   },
   "source": [
    "## 3. ***Data Wrangling***"
   ]
  },
  {
   "cell_type": "markdown",
   "metadata": {
    "id": "bKJF3rekwFvQ"
   },
   "source": [
    "### Data Wrangling Code"
   ]
  },
  {
   "cell_type": "code",
   "execution_count": 308,
   "metadata": {
    "id": "wk-9a2fpoLcV"
   },
   "outputs": [
    {
     "name": "stderr",
     "output_type": "stream",
     "text": [
      "C:\\Users\\ADMIN\\AppData\\Local\\Temp\\ipykernel_24968\\3748175567.py:4: UserWarning: Parsing dates in %d/%m/%Y %H:%M format when dayfirst=False (the default) was specified. Pass `dayfirst=True` or specify a format to silence this warning.\n",
      "  df['order_date_time'] = pd.to_datetime(df['order_date_time'], errors='coerce')\n",
      "C:\\Users\\ADMIN\\AppData\\Local\\Temp\\ipykernel_24968\\3748175567.py:7: UserWarning: Could not infer format, so each element will be parsed individually, falling back to `dateutil`. To ensure parsing is consistent and as-expected, please specify a format.\n",
      "  df['Survey_response_Date'] = pd.to_datetime(df['Survey_response_Date'], errors='coerce')\n"
     ]
    }
   ],
   "source": [
    "# Write your code to make your dataset analysis ready.\n",
    "\n",
    "# Replacing invalid dates with Not a Time\n",
    "df['order_date_time'] = pd.to_datetime(df['order_date_time'], errors='coerce')\n",
    "df['Issue_reported at'] = pd.to_datetime(df['Issue_reported at'], errors='coerce')\n",
    "df['issue_responded'] = pd.to_datetime(df['issue_responded'], errors='coerce')\n",
    "df['Survey_response_Date'] = pd.to_datetime(df['Survey_response_Date'], errors='coerce')\n",
    "\n",
    "# Calculate Response Time in Hours\n",
    "df['response_time_hr'] = (df['issue_responded'] - df['Issue_reported at']).dt.total_seconds() / 3600\n",
    "\n",
    "# Handling missing values in response_time_hr ( replacing with median)\n",
    "df['response_time_hr'] = df['response_time_hr'].fillna(df['response_time_hr'].median())\n",
    "\n",
    "# Converting CSAT Score to Binary (For simplification)\n",
    "df['CSAT_binary'] = df['CSAT Score'].apply(lambda x: 1 if x >=4 else 0)\n",
    "\n",
    "\n",
    "# Making a copy of dataset for Visualization\n",
    "original_df = df.copy()"
   ]
  },
  {
   "cell_type": "markdown",
   "metadata": {
    "id": "MSa1f5Uengrz"
   },
   "source": [
    "### What all manipulations have you done and insights you found?"
   ]
  },
  {
   "cell_type": "markdown",
   "metadata": {
    "id": "LbyXE7I1olp8"
   },
   "source": [
    "Answer Here.:\n",
    "1. 'Issue_responded' and 'Issue_reported at' columns were used to calculate a **new variable** named *'reponse_time_hr'*.\n",
    "2. The missing values in 'response_time_hr' are replaced from its **median**.\n",
    "3. The CSAT Score is converted to have binary data with **(Satisfactory)1 -> 4 or 5** and **(Unsatisfactory)0 -> 1 to 3** for simplification.\n",
    "4. Lastly we make a copy of df, which we will use for visualization."
   ]
  },
  {
   "cell_type": "markdown",
   "metadata": {
    "id": "GF8Ens_Soomf"
   },
   "source": [
    "## ***4. Data Vizualization, Storytelling & Experimenting with charts : Understand the relationships between variables***"
   ]
  },
  {
   "cell_type": "markdown",
   "metadata": {
    "id": "0wOQAZs5pc--"
   },
   "source": [
    "#### Chart - 1"
   ]
  },
  {
   "cell_type": "code",
   "execution_count": 309,
   "metadata": {
    "id": "7v_ESjsspbW7"
   },
   "outputs": [
    {
     "data": {
      "image/png": "[encoded data removed]",
      "text/plain": [
       "<Figure size 640x480 with 1 Axes>"
      ]
     },
     "metadata": {},
     "output_type": "display_data"
    }
   ],
   "source": [
    "# Chart - 1 visualization code\n",
    "# Pie Chart\n",
    "original_df['CSAT_binary'].value_counts().plot.pie(autopct='%1.1f%%', startangle=90, colors=['blue', 'green'], labels=['Unsatisfied', 'Satisfied'])\n",
    "plt.title(\"Overall Customer Satisfaction Distribution\")\n",
    "plt.ylabel('')\n",
    "plt.show()"
   ]
  },
  {
   "cell_type": "markdown",
   "metadata": {
    "id": "K5QZ13OEpz2H"
   },
   "source": [
    "##### 1. Why did you pick the specific chart?"
   ]
  },
  {
   "cell_type": "markdown",
   "metadata": {
    "id": "XESiWehPqBRc"
   },
   "source": [
    "Answer Here.:\n",
    "-> The chart showcases the Class distribution in CSAT_binary, i.e, the people who are satisfied(having high CSAT_Scores) and those who are Unsatisfied(low CSAT_Scores)."
   ]
  },
  {
   "cell_type": "markdown",
   "metadata": {
    "id": "lQ7QKXXCp7Bj"
   },
   "source": [
    "##### 2. What is/are the insight(s) found from the chart?"
   ]
  },
  {
   "cell_type": "markdown",
   "metadata": {
    "id": "C_j1G7yiqdRP"
   },
   "source": [
    "Answer Here:-> As we can observe from the above chart the majority of the customers are Unsatisfied, about 82.5%."
   ]
  },
  {
   "cell_type": "markdown",
   "metadata": {
    "id": "448CDAPjqfQr"
   },
   "source": [
    "##### 3. Will the gained insights help creating a positive business impact?\n",
    "Are there any insights that lead to negative growth? Justify with specific reason."
   ]
  },
  {
   "cell_type": "markdown",
   "metadata": {
    "id": "3cspy4FjqxJW"
   },
   "source": [
    "Answer Here:\n",
    "1. Yes, the insights gained form this chart is helpful in creating a positive business impact.\n",
    "2. As, this focuses on how many customers are Satisfied and how many are not. This will help the business to check the effect of the already implemented solutions.\n",
    "3. There is a major insight here which can effect the customer loyalty negatively, as we can see a trend of Unsatisfied customers."
   ]
  },
  {
   "cell_type": "markdown",
   "metadata": {
    "id": "KSlN3yHqYklG"
   },
   "source": [
    "#### Chart - 2"
   ]
  },
  {
   "cell_type": "code",
   "execution_count": 310,
   "metadata": {
    "id": "R4YgtaqtYklH"
   },
   "outputs": [
    {
     "data": {
      "image/png": "[encoded data removed]",
      "text/plain": [
       "<Figure size 640x480 with 1 Axes>"
      ]
     },
     "metadata": {},
     "output_type": "display_data"
    }
   ],
   "source": [
    "# Chart - 2 visualization code\n",
    "# Bar Chart\n",
    "original_df['channel_name'].value_counts().plot(kind='bar', color='blue')\n",
    "plt.title(\"Customer Support Channel Usage\")\n",
    "plt.xlabel('Channel')\n",
    "plt.ylabel('Number of Tickets')\n",
    "plt.xticks(rotation=45)\n",
    "plt.show()"
   ]
  },
  {
   "cell_type": "markdown",
   "metadata": {
    "id": "t6dVpIINYklI"
   },
   "source": [
    "##### 1. Why did you pick the specific chart?"
   ]
  },
  {
   "cell_type": "markdown",
   "metadata": {
    "id": "5aaW0BYyYklI"
   },
   "source": [
    "Answer Here.: -> This chart gives is a clear understanding about what channels are used the most, thus helping us in prioritizing those ares."
   ]
  },
  {
   "cell_type": "markdown",
   "metadata": {
    "id": "ijmpgYnKYklI"
   },
   "source": [
    "##### 2. What is/are the insight(s) found from the chart?"
   ]
  },
  {
   "cell_type": "markdown",
   "metadata": {
    "id": "PSx9atu2YklI"
   },
   "source": [
    "Answer Here:\n",
    "1. As we can observe, the inbound channel has maximum number of tickets and far exceeds any other channels.\n",
    "2. This implies that maximum number of customers prefer inbound channel of communication, thus the business can focus on these channels for implementing better Customer Satisfaction strategies and resource allocation.\n",
    "3. Also, the tickets are not distributed among the channels equally."
   ]
  },
  {
   "cell_type": "markdown",
   "metadata": {
    "id": "-JiQyfWJYklI"
   },
   "source": [
    "##### 3. Will the gained insights help creating a positive business impact?\n",
    "Are there any insights that lead to negative growth? Justify with specific reason."
   ]
  },
  {
   "cell_type": "markdown",
   "metadata": {
    "id": "BcBbebzrYklV"
   },
   "source": [
    "Answer Here:\n",
    "1. Yes, the insights gained form this chart is helpful in creating a positive business impact.\n",
    "2. Yes, there is one insight that may lead to negative or slow business growth; the tickets are not distributed among the channels equally, leading to higher load on inbound and outbound centers which can hamper the productivity."
   ]
  },
  {
   "cell_type": "markdown",
   "metadata": {
    "id": "EM7whBJCYoAo"
   },
   "source": [
    "#### Chart - 3"
   ]
  },
  {
   "cell_type": "code",
   "execution_count": 311,
   "metadata": {
    "id": "t6GMdE67YoAp"
   },
   "outputs": [
    {
     "data": {
      "image/png": "[encoded data removed]",
      "text/plain": [
       "<Figure size 640x480 with 1 Axes>"
      ]
     },
     "metadata": {},
     "output_type": "display_data"
    }
   ],
   "source": [
    "# Chart - 3 visualization code\n",
    "# Count Plot\n",
    "sns.countplot(x='category', hue='CSAT_binary', data=original_df)\n",
    "plt.title('Satisfaction by Issue')\n",
    "plt.xlabel('Issue Category')\n",
    "plt.ylabel('Count')\n",
    "plt.xticks(rotation=90)\n",
    "plt.legend(title='CSAT')\n",
    "plt.show()"
   ]
  },
  {
   "cell_type": "markdown",
   "metadata": {
    "id": "fge-S5ZAYoAp"
   },
   "source": [
    "##### 1. Why did you pick the specific chart?"
   ]
  },
  {
   "cell_type": "markdown",
   "metadata": {
    "id": "5dBItgRVYoAp"
   },
   "source": [
    "Answer Here.:\n",
    "1. This count plot shows the count problems that customers face and how many are satisfied and how many are unsatisfied."
   ]
  },
  {
   "cell_type": "markdown",
   "metadata": {
    "id": "85gYPyotYoAp"
   },
   "source": [
    "##### 2. What is/are the insight(s) found from the chart?"
   ]
  },
  {
   "cell_type": "markdown",
   "metadata": {
    "id": "4jstXR6OYoAp"
   },
   "source": [
    "Answer Here:\n",
    "1. As we can observe that majority of the customers face problems related to Returns and it also has the highest Satisfied as well as Unsatisfied customers.\n",
    "2. However we can also observe that the number of unsatisfied customers in Returns and Order Related problems are almost similar, but the satisfied customers of Order Related problems are significantly less than those of Returns.\n",
    "3. This implies, Order Related issues need to tackled first."
   ]
  },
  {
   "cell_type": "markdown",
   "metadata": {
    "id": "RoGjAbkUYoAp"
   },
   "source": [
    "##### 3. Will the gained insights help creating a positive business impact?\n",
    "Are there any insights that lead to negative growth? Justify with specific reason."
   ]
  },
  {
   "cell_type": "markdown",
   "metadata": {
    "id": "zfJ8IqMcYoAp"
   },
   "source": [
    "Answer Here:\n",
    "1. Yes, the insights gained form this chart is helpful in creating a positive business impact.\n",
    "2. It will help identify problematic categories.\n",
    "3. Yes there is one insight that might lead to negative growth, that being the high number Issues with Returns and Order Related problems, which leads to loss of trust form the customers."
   ]
  },
  {
   "cell_type": "markdown",
   "metadata": {
    "id": "4Of9eVA-YrdM"
   },
   "source": [
    "#### Chart - 4"
   ]
  },
  {
   "cell_type": "code",
   "execution_count": 312,
   "metadata": {
    "id": "irlUoxc8YrdO"
   },
   "outputs": [
    {
     "name": "stderr",
     "output_type": "stream",
     "text": [
      "C:\\Users\\ADMIN\\AppData\\Local\\Temp\\ipykernel_24968\\3831012145.py:3: FutureWarning: \n",
      "\n",
      "Passing `palette` without assigning `hue` is deprecated and will be removed in v0.14.0. Assign the `x` variable to `hue` and set `legend=False` for the same effect.\n",
      "\n",
      "  sns.swarmplot(x='CSAT_binary', y='response_time_hr', data=original_df.sample(1000), palette='muted')\n",
      "c:\\Users\\ADMIN\\AppData\\Local\\Programs\\Python\\Python310\\lib\\site-packages\\seaborn\\categorical.py:3399: UserWarning: 68.2% of the points cannot be placed; you may want to decrease the size of the markers or use stripplot.\n",
      "  warnings.warn(msg, UserWarning)\n",
      "c:\\Users\\ADMIN\\AppData\\Local\\Programs\\Python\\Python310\\lib\\site-packages\\seaborn\\categorical.py:3399: UserWarning: 91.4% of the points cannot be placed; you may want to decrease the size of the markers or use stripplot.\n",
      "  warnings.warn(msg, UserWarning)\n",
      "c:\\Users\\ADMIN\\AppData\\Local\\Programs\\Python\\Python310\\lib\\site-packages\\seaborn\\categorical.py:3399: UserWarning: 80.9% of the points cannot be placed; you may want to decrease the size of the markers or use stripplot.\n",
      "  warnings.warn(msg, UserWarning)\n",
      "c:\\Users\\ADMIN\\AppData\\Local\\Programs\\Python\\Python310\\lib\\site-packages\\seaborn\\categorical.py:3399: UserWarning: 94.1% of the points cannot be placed; you may want to decrease the size of the markers or use stripplot.\n",
      "  warnings.warn(msg, UserWarning)\n"
     ]
    },
    {
     "data": {
      "image/png": "[encoded data removed]",
      "text/plain": [
       "<Figure size 640x480 with 1 Axes>"
      ]
     },
     "metadata": {},
     "output_type": "display_data"
    }
   ],
   "source": [
    "# Chart - 4 visualization code\n",
    "# Swarm Plot\n",
    "sns.swarmplot(x='CSAT_binary', y='response_time_hr', data=original_df.sample(1000), palette='muted')\n",
    "plt.title(\"Response Time Distribution by CSAT\")\n",
    "plt.xlabel(\"CSAT (0 = Unsatisfied, 1 = Satisfied)\")\n",
    "plt.ylabel(\"Response Time (hours)\")\n",
    "plt.show()"
   ]
  },
  {
   "cell_type": "markdown",
   "metadata": {
    "id": "iky9q4vBYrdO"
   },
   "source": [
    "##### 1. Why did you pick the specific chart?"
   ]
  },
  {
   "cell_type": "markdown",
   "metadata": {
    "id": "aJRCwT6DYrdO"
   },
   "source": [
    "Answer Here.: -> This Swarm Plot tells us the distribution of each response time without overlap like in boxplot."
   ]
  },
  {
   "cell_type": "markdown",
   "metadata": {
    "id": "F6T5p64dYrdO"
   },
   "source": [
    "##### 2. What is/are the insight(s) found from the chart?"
   ]
  },
  {
   "cell_type": "markdown",
   "metadata": {
    "id": "Xx8WAJvtYrdO"
   },
   "source": [
    "Answer Here:\n",
    "1. Most of the satisfied and unsatisfied customers have low response times.\n",
    "2. However in both, the outliers suggest that long delays not always cause dissatisfaction."
   ]
  },
  {
   "cell_type": "markdown",
   "metadata": {
    "id": "y-Ehk30pYrdP"
   },
   "source": [
    "##### 3. Will the gained insights help creating a positive business impact?\n",
    "Are there any insights that lead to negative growth? Justify with specific reason."
   ]
  },
  {
   "cell_type": "markdown",
   "metadata": {
    "id": "jLNxxz7MYrdP"
   },
   "source": [
    "Answer Here:\n",
    "1. Yes, the insights gained form this chart is helpful in creating a positive business impact.\n",
    "2. This tells us that some customers are willing to wait if the issue is resolved well.\n",
    "3. There are no other useful insights that might lead to negative growth."
   ]
  },
  {
   "cell_type": "markdown",
   "metadata": {
    "id": "bamQiAODYuh1"
   },
   "source": [
    "#### Chart - 5"
   ]
  },
  {
   "cell_type": "code",
   "execution_count": 313,
   "metadata": {
    "id": "TIJwrbroYuh3"
   },
   "outputs": [
    {
     "data": {
      "image/png": "[encoded data removed]",
      "text/plain": [
       "<Figure size 640x480 with 1 Axes>"
      ]
     },
     "metadata": {},
     "output_type": "display_data"
    }
   ],
   "source": [
    "# Chart - 5 visualization code\n",
    "# Violin Plot\n",
    "sns.violinplot(x='Tenure Bucket', y='response_time_hr', data=original_df)\n",
    "plt.ylim(0, 50) # focusing on a range to remove unnecessary outliers\n",
    "plt.title('Response Time Distribution by Agent Tenure')\n",
    "plt.xticks(rotation=90)\n",
    "plt.show()"
   ]
  },
  {
   "cell_type": "markdown",
   "metadata": {
    "id": "QHF8YVU7Yuh3"
   },
   "source": [
    "##### 1. Why did you pick the specific chart?"
   ]
  },
  {
   "cell_type": "markdown",
   "metadata": {
    "id": "dcxuIMRPYuh3"
   },
   "source": [
    "Answer Here.: -> This violin plot shows the distribution of Response Time by Agent Tenure."
   ]
  },
  {
   "cell_type": "markdown",
   "metadata": {
    "id": "GwzvFGzlYuh3"
   },
   "source": [
    "##### 2. What is/are the insight(s) found from the chart?"
   ]
  },
  {
   "cell_type": "markdown",
   "metadata": {
    "id": "uyqkiB8YYuh3"
   },
   "source": [
    "Answer Here:\n",
    "1. As we can see, all the tenures have majority of the responses under the 20-25 hrs range.\n",
    "2. Also, all the tenure buckets show similar spread, indicating that tenures are not affecting the response times much."
   ]
  },
  {
   "cell_type": "markdown",
   "metadata": {
    "id": "qYpmQ266Yuh3"
   },
   "source": [
    "##### 3. Will the gained insights help creating a positive business impact?\n",
    "Are there any insights that lead to negative growth? Justify with specific reason."
   ]
  },
  {
   "cell_type": "markdown",
   "metadata": {
    "id": "_WtzZ_hCYuh4"
   },
   "source": [
    "Answer Here:\n",
    "1. Yes, the insights gained form this chart is helpful in creating a positive business impact.\n",
    "2. As this plot indicates that tenure bucket doesn't matter for only for the response time, however we should also check its impact on CSAT Scores and other variables."
   ]
  },
  {
   "cell_type": "markdown",
   "metadata": {
    "id": "OH-pJp9IphqM"
   },
   "source": [
    "#### Chart - 6"
   ]
  },
  {
   "cell_type": "code",
   "execution_count": 314,
   "metadata": {
    "id": "kuRf4wtuphqN"
   },
   "outputs": [
    {
     "data": {
      "image/png": "[encoded data removed]",
      "text/plain": [
       "<Figure size 1200x800 with 2 Axes>"
      ]
     },
     "metadata": {},
     "output_type": "display_data"
    }
   ],
   "source": [
    "# Chart - 6 visualization code\n",
    "# Heatmap\n",
    "plt.figure(figsize=(12, 8))\n",
    "corr = original_df.corr(numeric_only=True)\n",
    "sns.heatmap(corr, cmap='coolwarm', annot=False)\n",
    "plt.title(\"Correlation Heatmap\")\n",
    "plt.show()"
   ]
  },
  {
   "cell_type": "markdown",
   "metadata": {
    "id": "bbFf2-_FphqN"
   },
   "source": [
    "##### 1. Why did you pick the specific chart?"
   ]
  },
  {
   "cell_type": "markdown",
   "metadata": {
    "id": "loh7H2nzphqN"
   },
   "source": [
    "Answer Here.: -> This heatmap shows the correlation between different variables."
   ]
  },
  {
   "cell_type": "markdown",
   "metadata": {
    "id": "_ouA3fa0phqN"
   },
   "source": [
    "##### 2. What is/are the insight(s) found from the chart?"
   ]
  },
  {
   "cell_type": "markdown",
   "metadata": {
    "id": "VECbqPI7phqN"
   },
   "source": [
    "Answer Here:\n",
    "1. It detects multicollinearity and feature impact for modeling decisions.\n",
    "2. We can observe different correlations like item price and connected_handling_time have a correlation of 0.6 which is high.\n",
    "3. Also, we can see that CSAT Score and Item_price have very less correlation meaning that Item prices generally don't affect CSAT scores."
   ]
  },
  {
   "cell_type": "markdown",
   "metadata": {
    "id": "Seke61FWphqN"
   },
   "source": [
    "##### 3. Will the gained insights help creating a positive business impact?\n",
    "Are there any insights that lead to negative growth? Justify with specific reason."
   ]
  },
  {
   "cell_type": "markdown",
   "metadata": {
    "id": "DW4_bGpfphqN"
   },
   "source": [
    "Answer Here:\n",
    "1. Yes, the insights gained form this chart is helpful in creating a positive business impact.\n",
    "2. No, there are no insights in this particular map that will lead to negative growth, however this heat map can be used along with other maps to determine any negative impacts."
   ]
  },
  {
   "cell_type": "markdown",
   "metadata": {
    "id": "PIIx-8_IphqN"
   },
   "source": [
    "#### Chart - 7"
   ]
  },
  {
   "cell_type": "code",
   "execution_count": 315,
   "metadata": {
    "id": "lqAIGUfyphqO"
   },
   "outputs": [
    {
     "data": {
      "image/png": "[encoded data removed]",
      "text/plain": [
       "<Figure size 640x480 with 1 Axes>"
      ]
     },
     "metadata": {},
     "output_type": "display_data"
    },
    {
     "data": {
      "image/png": "[encoded data removed]",
      "text/plain": [
       "<Figure size 640x480 with 1 Axes>"
      ]
     },
     "metadata": {},
     "output_type": "display_data"
    }
   ],
   "source": [
    "# Chart - 7 visualization code\n",
    "# Histogram\n",
    "original_df['response_time_hr'].hist(bins=30, color='blue')\n",
    "plt.title('Response Time Hour Distribution')\n",
    "plt.xlabel('Hours')\n",
    "plt.ylabel('Number of Cases')\n",
    "plt.show()\n",
    "\n",
    "# Histogram for higher response times\n",
    "original_df['response_time_hr'].hist(bins=30, color='blue') # bins as the data is not well distributed and is in clusters.\n",
    "plt.xlim(500, 3000)\n",
    "plt.ylim(0, 2100)\n",
    "plt.title('Response Time Hour Distribution')\n",
    "plt.xlabel('Hours')\n",
    "plt.ylabel('Number of Cases')\n",
    "plt.show()"
   ]
  },
  {
   "cell_type": "markdown",
   "metadata": {
    "id": "t27r6nlMphqO"
   },
   "source": [
    "##### 1. Why did you pick the specific chart?"
   ]
  },
  {
   "cell_type": "markdown",
   "metadata": {
    "id": "iv6ro40sphqO"
   },
   "source": [
    "Answer Here.: -> Here we have 2 histograms one showing the full dataset distribution and the second one is zoomed in to observe the high response time cases."
   ]
  },
  {
   "cell_type": "markdown",
   "metadata": {
    "id": "r2jJGEOYphqO"
   },
   "source": [
    "##### 2. What is/are the insight(s) found from the chart?"
   ]
  },
  {
   "cell_type": "markdown",
   "metadata": {
    "id": "Po6ZPi4hphqO"
   },
   "source": [
    "Answer Here:\n",
    "1. Majority of response times are between 0-500 hrs which indicates that majority if responses are being handed in a reasonable amount of time.\n",
    "2. Some responses have very high response times from 500-3000 hrs.\n",
    "3. However, the graphs are highly right-skewed, i.e, a positive skew."
   ]
  },
  {
   "cell_type": "markdown",
   "metadata": {
    "id": "b0JNsNcRphqO"
   },
   "source": [
    "##### 3. Will the gained insights help creating a positive business impact?\n",
    "Are there any insights that lead to negative growth? Justify with specific reason."
   ]
  },
  {
   "cell_type": "markdown",
   "metadata": {
    "id": "xvSq8iUTphqO"
   },
   "source": [
    "Answer Here:\n",
    "1. Yes, the insights gained form this chart is helpful in creating a positive business impact.\n",
    "2. Also, an insight that may lead to the negative growth is that there are still many response times with having high numbers which leads to customer dissatisfaction and loss of trust."
   ]
  },
  {
   "cell_type": "markdown",
   "metadata": {
    "id": "BZR9WyysphqO"
   },
   "source": [
    "#### Chart - 8"
   ]
  },
  {
   "cell_type": "code",
   "execution_count": 316,
   "metadata": {
    "id": "TdPTWpAVphqO"
   },
   "outputs": [
    {
     "data": {
      "image/png": "[encoded data removed]",
      "text/plain": [
       "<Figure size 640x480 with 1 Axes>"
      ]
     },
     "metadata": {},
     "output_type": "display_data"
    }
   ],
   "source": [
    "# Chart - 8 visualization code\n",
    "# Bar Plot\n",
    "top_agents = original_df['Agent_name'].value_counts().nlargest(10).index\n",
    "sns.countplot(x='Agent_name', hue='CSAT_binary', data=original_df[original_df['Agent_name'].isin(top_agents)])\n",
    "plt.title(\"Top 10 Agents - CSAT Comparison\")\n",
    "plt.xlabel(\"Agent Name\")\n",
    "plt.ylabel(\"Number of Responses\")\n",
    "plt.xticks(rotation=90)\n",
    "plt.legend(title='CSAT')\n",
    "plt.show()"
   ]
  },
  {
   "cell_type": "markdown",
   "metadata": {
    "id": "jj7wYXLtphqO"
   },
   "source": [
    "##### 1. Why did you pick the specific chart?"
   ]
  },
  {
   "cell_type": "markdown",
   "metadata": {
    "id": "Ob8u6rCTphqO"
   },
   "source": [
    "Answer Here.: -> This is a graph showing the top 10 gents and their CSAT Scores."
   ]
  },
  {
   "cell_type": "markdown",
   "metadata": {
    "id": "eZrbJ2SmphqO"
   },
   "source": [
    "##### 2. What is/are the insight(s) found from the chart?"
   ]
  },
  {
   "cell_type": "markdown",
   "metadata": {
    "id": "mZtgC_hjphqO"
   },
   "source": [
    "Answer Here:\n",
    "1. We can observe that these are the top 10 Agents with highest number of responses.\n",
    "2. We can also see the CSAT Scores they get and can observe that Wendy Taylor has the Highest CSAT Scores of all the Agents."
   ]
  },
  {
   "cell_type": "markdown",
   "metadata": {
    "id": "rFu4xreNphqO"
   },
   "source": [
    "##### 3. Will the gained insights help creating a positive business impact?\n",
    "Are there any insights that lead to negative growth? Justify with specific reason."
   ]
  },
  {
   "cell_type": "markdown",
   "metadata": {
    "id": "ey_0qi68phqO"
   },
   "source": [
    "Answer Here:\n",
    "1. Yes, the insights gained form this chart is helpful in creating a positive business impact.\n",
    "2. We can also encourage Agents and boost their morals and try not to overwhelm them to keep their productivity high."
   ]
  },
  {
   "cell_type": "markdown",
   "metadata": {
    "id": "q29F0dvdveiT"
   },
   "source": [
    "#### Chart - 9 - Pair Plot"
   ]
  },
  {
   "cell_type": "code",
   "execution_count": 317,
   "metadata": {
    "id": "o58-TEIhveiU"
   },
   "outputs": [
    {
     "data": {
      "image/png": "[encoded data removed]",
      "text/plain": [
       "<Figure size 847.861x750 with 12 Axes>"
      ]
     },
     "metadata": {},
     "output_type": "display_data"
    }
   ],
   "source": [
    "# Pair Plot visualization code\n",
    "# Select only numeric columns (to avoid errors with strings or dates)\n",
    "numeric_cols = original_df.select_dtypes(include=['number']).columns\n",
    "\n",
    "# Add 'CSAT Score' to calculate binary target (in case it's not there)\n",
    "if 'CSAT Score' in original_df.columns and 'CSAT_binary' not in original_df.columns:\n",
    "    original_df['CSAT_binary'] = original_df['CSAT Score'].apply(lambda x: 1 if x >= 4 else 0)\n",
    "\n",
    "# Pick top correlated numeric features (excluding the target)\n",
    "correlations = original_df[numeric_cols].corr()['CSAT_binary'].drop('CSAT_binary').abs()\n",
    "top_features = correlations.sort_values(ascending=False).head(3).index.tolist()\n",
    "\n",
    "# Add target variable\n",
    "selected_features = top_features + ['CSAT_binary']\n",
    "\n",
    "# Plot the pairplot\n",
    "sns.pairplot(original_df[selected_features], hue='CSAT_binary', palette='Set1', plot_kws={'alpha': 0.5})\n",
    "plt.suptitle(\"Pair Plot of Top Correlated Features (original_df)\", y=1.02)\n",
    "plt.show()\n"
   ]
  },
  {
   "cell_type": "markdown",
   "metadata": {
    "id": "EXh0U9oCveiU"
   },
   "source": [
    "##### 1. Why did you pick the specific chart?"
   ]
  },
  {
   "cell_type": "markdown",
   "metadata": {
    "id": "eMmPjTByveiU"
   },
   "source": [
    "Answer Here.: -> This pair plot allows us to visualize the pairwise relationships between features. It helps spot patterns, clusters or separation in relation to target variable."
   ]
  },
  {
   "cell_type": "markdown",
   "metadata": {
    "id": "22aHeOlLveiV"
   },
   "source": [
    "##### 2. What is/are the insight(s) found from the chart?"
   ]
  },
  {
   "cell_type": "markdown",
   "metadata": {
    "id": "uPQ8RGwHveiV"
   },
   "source": [
    "Answer Here:\n",
    "1. Customers with very high response time are slightly more likely to give low CSAT (red).\n",
    "2. Fraudulent user issues tend to have more 0 in CSAT (unsatisfied)."
   ]
  },
  {
   "cell_type": "markdown",
   "metadata": {
    "id": "g-ATYxFrGrvw"
   },
   "source": [
    "## ***5. Hypothesis Testing***"
   ]
  },
  {
   "cell_type": "markdown",
   "metadata": {
    "id": "Yfr_Vlr8HBkt"
   },
   "source": [
    "### Based on your chart experiments, define three hypothetical statements from the dataset. In the next three questions, perform hypothesis testing to obtain final conclusion about the statements through your code and statistical testing."
   ]
  },
  {
   "cell_type": "markdown",
   "metadata": {
    "id": "-7MS06SUHkB-"
   },
   "source": [
    "Answer Here."
   ]
  },
  {
   "cell_type": "markdown",
   "metadata": {
    "id": "8yEUt7NnHlrM"
   },
   "source": [
    "### Hypothetical Statement - 1"
   ]
  },
  {
   "cell_type": "markdown",
   "metadata": {
    "id": "tEA2Xm5dHt1r"
   },
   "source": [
    "#### 1. State Your research hypothesis as a null hypothesis and alternate hypothesis."
   ]
  },
  {
   "cell_type": "markdown",
   "metadata": {
    "id": "HI9ZP0laH0D-"
   },
   "source": [
    "Answer Here.: -> There is no significant difference in response time between satisfied (CSAT=1) and unsatisfied(CSAT=0)."
   ]
  },
  {
   "cell_type": "markdown",
   "metadata": {
    "id": "I79__PHVH19G"
   },
   "source": [
    "#### 2. Perform an appropriate statistical test."
   ]
  },
  {
   "cell_type": "code",
   "execution_count": 318,
   "metadata": {
    "id": "oZrfquKtyian"
   },
   "outputs": [
    {
     "name": "stdout",
     "output_type": "stream",
     "text": [
      "T-test p-value(Responsetime / CSAT Binary):  1.058248771454723e-94\n"
     ]
    }
   ],
   "source": [
    "# Perform Statistical Test to obtain P-Value\n",
    "# T-test\n",
    "satisfied = df[df['CSAT_binary'] == 1]['response_time_hr']\n",
    "unsatisfied = df[df['CSAT_binary'] == 0]['response_time_hr']\n",
    "\n",
    "t_stat, p_val_ttest = ttest_ind(satisfied, unsatisfied)\n",
    "print('T-test p-value(Responsetime / CSAT Binary): ', p_val_ttest)"
   ]
  },
  {
   "cell_type": "markdown",
   "metadata": {
    "id": "Ou-I18pAyIpj"
   },
   "source": [
    "##### Which statistical test have you done to obtain P-Value?"
   ]
  },
  {
   "cell_type": "markdown",
   "metadata": {
    "id": "s2U0kk00ygSB"
   },
   "source": [
    "Answer Here.:\n",
    "1.  I have done T-test here as it compares the means of a numerical variable between 2 groups."
   ]
  },
  {
   "cell_type": "markdown",
   "metadata": {
    "id": "fF3858GYyt-u"
   },
   "source": [
    "##### Why did you choose the specific statistical test?"
   ]
  },
  {
   "cell_type": "markdown",
   "metadata": {
    "id": "HO4K0gP5y3B4"
   },
   "source": [
    "Answer Here.:\n",
    "1. I chose the t-test here because we can easily determine the p-values for Response time vs CSAT Binary.\n",
    "2. As we can also see, its much less than 0.05 we will reject the null hypothesis,\n",
    "3. This implies that, **There is a significant difference in response time between the two groups.**"
   ]
  },
  {
   "cell_type": "markdown",
   "metadata": {
    "id": "4_0_7-oCpUZd"
   },
   "source": [
    "### Hypothetical Statement - 2"
   ]
  },
  {
   "cell_type": "markdown",
   "metadata": {
    "id": "hwyV_J3ipUZe"
   },
   "source": [
    "#### 1. State Your research hypothesis as a null hypothesis and alternate hypothesis."
   ]
  },
  {
   "cell_type": "markdown",
   "metadata": {
    "id": "FnpLGJ-4pUZe"
   },
   "source": [
    "Answer Here.: -> There is no significant difference in response time across different agent tenure buckets."
   ]
  },
  {
   "cell_type": "markdown",
   "metadata": {
    "id": "3yB-zSqbpUZe"
   },
   "source": [
    "#### 2. Perform an appropriate statistical test."
   ]
  },
  {
   "cell_type": "code",
   "execution_count": 319,
   "metadata": {
    "id": "sWxdNTXNpUZe"
   },
   "outputs": [
    {
     "name": "stdout",
     "output_type": "stream",
     "text": [
      "ANOVA P-Valye (Response time / Tenure Bucket):  9.698697759611007e-29\n"
     ]
    }
   ],
   "source": [
    "# Perform Statistical Test to obtain P-Value\n",
    "# ANOVA\n",
    "# Comparing the response time across diff Agent tenure buckets\n",
    "groups = [grp['response_time_hr'].dropna() for name, grp in df.groupby('Tenure Bucket')]\n",
    "\n",
    "f_stat, p_val_anova = f_oneway(*groups)\n",
    "print('ANOVA P-Valye (Response time / Tenure Bucket): ', p_val_anova)"
   ]
  },
  {
   "cell_type": "markdown",
   "metadata": {
    "id": "dEUvejAfpUZe"
   },
   "source": [
    "##### Which statistical test have you done to obtain P-Value?"
   ]
  },
  {
   "cell_type": "markdown",
   "metadata": {
    "id": "oLDrPz7HpUZf"
   },
   "source": [
    "Answer Here.: -> Here I have used ANOVA to obtain the P-Value."
   ]
  },
  {
   "cell_type": "markdown",
   "metadata": {
    "id": "Fd15vwWVpUZf"
   },
   "source": [
    "##### Why did you choose the specific statistical test?"
   ]
  },
  {
   "cell_type": "markdown",
   "metadata": {
    "id": "4xOGYyiBpUZf"
   },
   "source": [
    "Answer Here.:\n",
    "1. ANOVA (Analysis of Variance) is used here because we need to compare one numerical variable across 3 categorical groups of tenure levels.\n",
    "2. As we can observe that the p-value is still far less than 0.05 so we will **Reject the Null Hypothesis.**"
   ]
  },
  {
   "cell_type": "markdown",
   "metadata": {
    "id": "bn_IUdTipZyH"
   },
   "source": [
    "### Hypothetical Statement - 3"
   ]
  },
  {
   "cell_type": "markdown",
   "metadata": {
    "id": "49K5P_iCpZyH"
   },
   "source": [
    "#### 1. State Your research hypothesis as a null hypothesis and alternate hypothesis."
   ]
  },
  {
   "cell_type": "markdown",
   "metadata": {
    "id": "7gWI5rT9pZyH"
   },
   "source": [
    "Answer Here.: -> The type of issue reported has no effect on customer satisfaction."
   ]
  },
  {
   "cell_type": "markdown",
   "metadata": {
    "id": "Nff-vKELpZyI"
   },
   "source": [
    "#### 2. Perform an appropriate statistical test."
   ]
  },
  {
   "cell_type": "code",
   "execution_count": 320,
   "metadata": {
    "id": "s6AnJQjtpZyI"
   },
   "outputs": [
    {
     "name": "stdout",
     "output_type": "stream",
     "text": [
      "Chi-Square P-value (Issue Type / CSAT) 5.1070624546398456e-141\n"
     ]
    }
   ],
   "source": [
    "# Perform Statistical Test to obtain P-Value\n",
    "# Chi-Square test\n",
    "# Testing the independence between issue type and CSAT\n",
    "conten = pd.crosstab(df['category'], df['CSAT_binary'])\n",
    "\n",
    "chi1, p_val_chi2, dof, expected = chi2_contingency(conten)\n",
    "print('Chi-Square P-value (Issue Type / CSAT)', p_val_chi2)"
   ]
  },
  {
   "cell_type": "markdown",
   "metadata": {
    "id": "kLW572S8pZyI"
   },
   "source": [
    "##### Which statistical test have you done to obtain P-Value?"
   ]
  },
  {
   "cell_type": "markdown",
   "metadata": {
    "id": "ytWJ8v15pZyI"
   },
   "source": [
    "Answer Here.: I have used Chi-Square Test to obtain P-Value."
   ]
  },
  {
   "cell_type": "markdown",
   "metadata": {
    "id": "dWbDXHzopZyI"
   },
   "source": [
    "##### Why did you choose the specific statistical test?"
   ]
  },
  {
   "cell_type": "markdown",
   "metadata": {
    "id": "M99G98V6pZyI"
   },
   "source": [
    "Answer Here.:\n",
    "1. We used Chi-Square test to check whether the tow categorical variables are independent or not.\n",
    "2. here, we can see that the p-value is still less than 0.05 so we will again, **Reject the Null hypothesis.**"
   ]
  },
  {
   "cell_type": "markdown",
   "metadata": {
    "id": "yLjJCtPM0KBk"
   },
   "source": [
    "## ***6. Feature Engineering & Data Pre-processing***"
   ]
  },
  {
   "cell_type": "markdown",
   "metadata": {
    "id": "xiyOF9F70UgQ"
   },
   "source": [
    "### 1. Handling Missing Values"
   ]
  },
  {
   "cell_type": "code",
   "execution_count": 321,
   "metadata": {
    "id": "iRsAHk1K0fpS"
   },
   "outputs": [],
   "source": [
    "# Handling Missing Values & Missing Value Imputation\n",
    "# Dropping useless or highly missing columns\n",
    "df.drop(['Unique id', 'Order_id'], axis=1, inplace=True)\n",
    "df.drop(['connected_handling_time', 'Customer_City', 'Product_category', 'Item_price'], axis=1, inplace=True)\n",
    "\n",
    "# Handling missing values\n",
    "df['Customer Remarks'] = df['Customer Remarks'].fillna('No Remarks')"
   ]
  },
  {
   "cell_type": "markdown",
   "metadata": {
    "id": "7wuGOrhz0itI"
   },
   "source": [
    "#### What all missing value imputation techniques have you used and why did you use those techniques?"
   ]
  },
  {
   "cell_type": "markdown",
   "metadata": {
    "id": "1ixusLtI0pqI"
   },
   "source": [
    "Answer Here.:\n",
    "1. I **dropped** the variables that are not at all useful to us like Unique id and Order_id.\n",
    "2. Dropped the variables that have high cardinality, too many missing values, inconsistent formatting, or not have strong correlation with the target variable(CSAT Score).\n",
    "3. These were dropped because keeping them can create a bias, cause mulicollinearity, or overfitting, and reduce overall model accuracy.\n",
    "4. For Customer_remarks variable the missing values are **replaced** by 'No Remarks'."
   ]
  },
  {
   "cell_type": "markdown",
   "metadata": {
    "id": "id1riN9m0vUs"
   },
   "source": [
    "### 2. Handling Outliers"
   ]
  },
  {
   "cell_type": "code",
   "execution_count": 322,
   "metadata": {
    "id": "M6w2CzZf04JK"
   },
   "outputs": [
    {
     "name": "stdout",
     "output_type": "stream",
     "text": [
      "  channel_name         category                  Sub-category  \\\n",
      "0      Outcall  Product Queries                Life Insurance   \n",
      "1      Outcall  Product Queries  Product Specific Information   \n",
      "2      Inbound    Order Related             Installation/demo   \n",
      "3      Inbound          Returns        Reverse Pickup Enquiry   \n",
      "4      Inbound     Cancellation                    Not Needed   \n",
      "\n",
      "  Customer Remarks order_date_time   Issue_reported at     issue_responded  \\\n",
      "0       No Remarks             NaT 2023-01-08 11:13:00 2023-01-08 11:47:00   \n",
      "1       No Remarks             NaT 2023-01-08 12:52:00 2023-01-08 12:54:00   \n",
      "2       No Remarks             NaT 2023-01-08 20:16:00 2023-01-08 20:38:00   \n",
      "3       No Remarks             NaT 2023-01-08 20:56:00 2023-01-08 21:16:00   \n",
      "4       No Remarks             NaT 2023-01-08 10:30:00 2023-01-08 10:32:00   \n",
      "\n",
      "  Survey_response_Date           Agent_name      Supervisor          Manager  \\\n",
      "0           2023-08-01     Richard Buchanan     Mason Gupta  Jennifer Nguyen   \n",
      "1           2023-08-01        Vicki Collins       Dylan Kim      Michael Lee   \n",
      "2           2023-08-01         Duane Norman    Jackson Park      William Kim   \n",
      "3           2023-08-01       Patrick Flores     Olivia Wang       John Smith   \n",
      "4           2023-08-01  Christopher Sanchez  Austin Johnson      Michael Lee   \n",
      "\n",
      "     Tenure Bucket Agent Shift  CSAT Score  response_time_hr  CSAT_binary  \n",
      "0  On Job Training     Morning           5          0.566667            1  \n",
      "1              >90     Morning           5          0.033333            1  \n",
      "2  On Job Training     Evening           5          0.366667            1  \n",
      "3              >90     Evening           5          0.333333            1  \n",
      "4             0-30     Morning           5          0.033333            1  \n"
     ]
    }
   ],
   "source": [
    "# Handling Outliers & Outlier treatments\n",
    "# Outlier Detection\n",
    "cols = 'response_time_hr'\n",
    "# function to cap/floor outliers using Percentile Capping\n",
    "def handle_outliers(df, column):\n",
    "    lower = df[column].quantile(0.01)\n",
    "    upper = df[column].quantile(0.99)\n",
    "    df[column] = df[column].clip(lower, upper)\n",
    "\n",
    "# calling the function\n",
    "handle_outliers(df, cols)\n",
    "\n",
    "print(df.head())\n",
    "\n",
    "# Keeping a copy for CatBoost as it performs better without label encoding\n",
    "org_df = df.copy()"
   ]
  },
  {
   "cell_type": "markdown",
   "metadata": {
    "id": "578E2V7j08f6"
   },
   "source": [
    "##### What all outlier treatment techniques have you used and why did you use those techniques?"
   ]
  },
  {
   "cell_type": "markdown",
   "metadata": {
    "id": "uGZz5OrT1HH-"
   },
   "source": [
    "Answer Here.:\n",
    "1. I used Percentile Capping to replace outliers with values at specific percentile cutoffs, so that the data remains within a specific range.\n",
    "2. This was only done on one of the variables as others are not reliable due to high missing values and were therefore dropped.\n",
    "3. Percentile capping is the choice I went for because, as we had observed in the visualization, majority of the data is clustered in 0-500 ranges."
   ]
  },
  {
   "cell_type": "markdown",
   "metadata": {
    "id": "89xtkJwZ18nB"
   },
   "source": [
    "### 3. Categorical Encoding"
   ]
  },
  {
   "cell_type": "code",
   "execution_count": 323,
   "metadata": {
    "id": "21JmIYMG2hEo"
   },
   "outputs": [
    {
     "data": {
      "text/html": [
       "<div>\n",
       "<style scoped>\n",
       "    .dataframe tbody tr th:only-of-type {\n",
       "        vertical-align: middle;\n",
       "    }\n",
       "\n",
       "    .dataframe tbody tr th {\n",
       "        vertical-align: top;\n",
       "    }\n",
       "\n",
       "    .dataframe thead th {\n",
       "        text-align: right;\n",
       "    }\n",
       "</style>\n",
       "<table border=\"1\" class=\"dataframe\">\n",
       "  <thead>\n",
       "    <tr style=\"text-align: right;\">\n",
       "      <th></th>\n",
       "      <th>channel_name</th>\n",
       "      <th>category</th>\n",
       "      <th>Sub-category</th>\n",
       "      <th>Agent_name</th>\n",
       "      <th>Supervisor</th>\n",
       "      <th>Manager</th>\n",
       "      <th>Tenure Bucket</th>\n",
       "      <th>Agent Shift</th>\n",
       "    </tr>\n",
       "  </thead>\n",
       "  <tbody>\n",
       "    <tr>\n",
       "      <th>0</th>\n",
       "      <td>2</td>\n",
       "      <td>8</td>\n",
       "      <td>19</td>\n",
       "      <td>1072</td>\n",
       "      <td>26</td>\n",
       "      <td>1</td>\n",
       "      <td>4</td>\n",
       "      <td>2</td>\n",
       "    </tr>\n",
       "    <tr>\n",
       "      <th>1</th>\n",
       "      <td>2</td>\n",
       "      <td>8</td>\n",
       "      <td>34</td>\n",
       "      <td>1323</td>\n",
       "      <td>9</td>\n",
       "      <td>3</td>\n",
       "      <td>3</td>\n",
       "      <td>2</td>\n",
       "    </tr>\n",
       "    <tr>\n",
       "      <th>2</th>\n",
       "      <td>1</td>\n",
       "      <td>5</td>\n",
       "      <td>15</td>\n",
       "      <td>370</td>\n",
       "      <td>18</td>\n",
       "      <td>5</td>\n",
       "      <td>4</td>\n",
       "      <td>1</td>\n",
       "    </tr>\n",
       "    <tr>\n",
       "      <th>3</th>\n",
       "      <td>1</td>\n",
       "      <td>10</td>\n",
       "      <td>40</td>\n",
       "      <td>1024</td>\n",
       "      <td>33</td>\n",
       "      <td>2</td>\n",
       "      <td>3</td>\n",
       "      <td>1</td>\n",
       "    </tr>\n",
       "    <tr>\n",
       "      <th>4</th>\n",
       "      <td>1</td>\n",
       "      <td>1</td>\n",
       "      <td>22</td>\n",
       "      <td>247</td>\n",
       "      <td>4</td>\n",
       "      <td>3</td>\n",
       "      <td>0</td>\n",
       "      <td>2</td>\n",
       "    </tr>\n",
       "  </tbody>\n",
       "</table>\n",
       "</div>"
      ],
      "text/plain": [
       "   channel_name  category  Sub-category  Agent_name  Supervisor  Manager  \\\n",
       "0             2         8            19        1072          26        1   \n",
       "1             2         8            34        1323           9        3   \n",
       "2             1         5            15         370          18        5   \n",
       "3             1        10            40        1024          33        2   \n",
       "4             1         1            22         247           4        3   \n",
       "\n",
       "   Tenure Bucket  Agent Shift  \n",
       "0              4            2  \n",
       "1              3            2  \n",
       "2              4            1  \n",
       "3              3            1  \n",
       "4              0            2  "
      ]
     },
     "execution_count": 323,
     "metadata": {},
     "output_type": "execute_result"
    }
   ],
   "source": [
    "# Encode your categorical columns\n",
    "# Categorical Encoding (Label Encoding- categorical -> numeric)\n",
    "cols = ['channel_name', 'category', 'Sub-category', 'Agent_name', 'Supervisor', 'Manager', 'Tenure Bucket', 'Agent Shift']\n",
    "\n",
    "# Creating label encoder instance\n",
    "label_encoder = LabelEncoder()\n",
    "\n",
    "# Applying the label encoder\n",
    "for column in cols:\n",
    "    if column in df.columns:\n",
    "        df[column] = label_encoder.fit_transform(df[column].astype(str))  # convert to string if not already\n",
    "\n",
    "df[cols].head()"
   ]
  },
  {
   "cell_type": "markdown",
   "metadata": {
    "id": "67NQN5KX2AMe"
   },
   "source": [
    "#### What all categorical encoding techniques have you used & why did you use those techniques?"
   ]
  },
  {
   "cell_type": "markdown",
   "metadata": {
    "id": "UDaue5h32n_G"
   },
   "source": [
    "Answer Here.:\n",
    "1. **Label encoding** was done on all the following columns: *'channel_name', 'category', 'Sub-category', 'Agent_name', 'Supervisor', 'Manager', 'Tenure Bucket', 'Agent Shift'*.\n",
    "2. It was chosen because it works well with Random Forest and XGBoost Training models.\n",
    "3. It works by assigning an integer based on the order of the label appearance."
   ]
  },
  {
   "cell_type": "markdown",
   "metadata": {
    "id": "Iwf50b-R2tYG"
   },
   "source": [
    "### 4. Textual Data Preprocessing\n",
    "(It's mandatory for textual dataset i.e., NLP, Sentiment Analysis, Text Clustering etc.)"
   ]
  },
  {
   "cell_type": "markdown",
   "metadata": {
    "id": "GMQiZwjn3iu7"
   },
   "source": [
    "#### 1. Expand Contraction"
   ]
  },
  {
   "cell_type": "code",
   "execution_count": 324,
   "metadata": {
    "id": "PTouz10C3oNN"
   },
   "outputs": [],
   "source": [
    "# Expand Contraction\n",
    "# function to expand contractions\n",
    "def expand_con(text):\n",
    "    if isinstance(text, str):\n",
    "        return contractions.fix(text)\n",
    "    return text\n",
    "\n",
    "# Applying on remarks column\n",
    "org_df['Customer Remarks Expanded'] = org_df['Customer Remarks'].apply(expand_con)"
   ]
  },
  {
   "cell_type": "markdown",
   "metadata": {
    "id": "WVIkgGqN3qsr"
   },
   "source": [
    "#### 2. Lower Casing"
   ]
  },
  {
   "cell_type": "code",
   "execution_count": 325,
   "metadata": {
    "id": "88JnJ1jN3w7j"
   },
   "outputs": [],
   "source": [
    "# Lower Casing\n",
    "org_df['Customer Remarks Expanded'] = org_df['Customer Remarks'].apply(lambda x: x.lower)"
   ]
  },
  {
   "cell_type": "markdown",
   "metadata": {
    "id": "XkPnILGE3zoT"
   },
   "source": [
    "#### 3. Removing Punctuations"
   ]
  },
  {
   "cell_type": "code",
   "execution_count": 326,
   "metadata": {
    "id": "vqbBqNaA33c0"
   },
   "outputs": [],
   "source": [
    "# Remove Punctuations\n",
    "org_df['Customer Remarks Expanded'] = org_df['Customer Remarks'].apply(lambda x: re.sub(r'[^a-zA-Z\\s]', '', x))"
   ]
  },
  {
   "cell_type": "markdown",
   "metadata": {
    "id": "Hlsf0x5436Go"
   },
   "source": [
    "#### 4. Removing URLs & Removing words and digits contain digits."
   ]
  },
  {
   "cell_type": "code",
   "execution_count": 327,
   "metadata": {
    "id": "2sxKgKxu4Ip3"
   },
   "outputs": [],
   "source": [
    "# Remove URLs & Remove words and digits contain digits\n",
    "org_df['Customer Remarks Expanded'] = org_df['Customer Remarks'].apply(lambda x: re.sub(r'http\\S+|www\\S+|https\\S+', '', x))\n",
    "org_df['Customer Remarks Expanded'] = org_df['Customer Remarks'].apply(lambda x: ' '.join([word for word in x.split() if not any(char.isdigit() for char in word)]))\n"
   ]
  },
  {
   "cell_type": "markdown",
   "metadata": {
    "id": "mT9DMSJo4nBL"
   },
   "source": [
    "#### 5. Removing Stopwords & Removing White spaces"
   ]
  },
  {
   "cell_type": "code",
   "execution_count": 328,
   "metadata": {
    "id": "T2LSJh154s8W"
   },
   "outputs": [],
   "source": [
    "# Remove Stopwords\n",
    "stop_words = set(stopwords.words('english'))\n",
    "org_df['Customer Remarks NoStopwords'] = org_df['Customer Remarks Expanded'].apply(lambda x: ' '.join([word for word in x.split() if word.lower() not in stop_words]))"
   ]
  },
  {
   "cell_type": "code",
   "execution_count": 329,
   "metadata": {
    "id": "EgLJGffy4vm0"
   },
   "outputs": [],
   "source": [
    "# Remove White spaces\n",
    "org_df['Customer Remarks NoStopwords'] = org_df['Customer Remarks Expanded'].apply(lambda x: ' '.join([word for word in x.split() if word.lower() not in stop_words]))"
   ]
  },
  {
   "cell_type": "markdown",
   "metadata": {
    "id": "c49ITxTc407N"
   },
   "source": [
    "#### 6. Rephrase Text"
   ]
  },
  {
   "cell_type": "code",
   "execution_count": 330,
   "metadata": {
    "id": "foqY80Qu48N2"
   },
   "outputs": [],
   "source": [
    "# Rephrase Text\n",
    "# Initialize SymSpell object\n",
    "sym_spell = SymSpell(max_dictionary_edit_distance=2, prefix_length=7)\n",
    "\n",
    "# Load dictionary (prebuilt frequency dictionary)\n",
    "dictionary_path = pkg_resources.resource_filename(\"symspellpy\", \"frequency_dictionary_en_82_765.txt\")\n",
    "sym_spell.load_dictionary(dictionary_path, term_index=0, count_index=1)\n",
    "\n",
    "# function for rephrasing\n",
    "def correct_text_symspell(text):\n",
    "    corrected_words = []\n",
    "    for word in text.split():\n",
    "        suggestion = sym_spell.lookup(word, Verbosity.CLOSEST, max_edit_distance=2)\n",
    "        if suggestion:\n",
    "            corrected_words.append(suggestion[0].term)\n",
    "        else:\n",
    "            corrected_words.append(word)\n",
    "    return ' '.join(corrected_words)\n",
    "\n",
    "\n",
    "org_df['Customer Remarks Corrected'] = org_df['Customer Remarks NoStopwords'].apply(correct_text_symspell)\n"
   ]
  },
  {
   "cell_type": "markdown",
   "metadata": {
    "id": "OeJFEK0N496M"
   },
   "source": [
    "#### 7. Tokenization"
   ]
  },
  {
   "cell_type": "code",
   "execution_count": 331,
   "metadata": {
    "id": "ijx1rUOS5CUU"
   },
   "outputs": [],
   "source": [
    "# Tokenization\n",
    "import spacy\n",
    "nlp = spacy.load(\"en_core_web_sm\")\n",
    "\n",
    "def spacy_tokenizer(text):\n",
    "    return [token.text for token in nlp(text)]\n",
    "\n",
    "org_df['Customer Remarks Tokens'] = org_df['Customer Remarks Corrected'].apply(spacy_tokenizer)\n"
   ]
  },
  {
   "cell_type": "markdown",
   "metadata": {
    "id": "9ExmJH0g5HBk"
   },
   "source": [
    "#### 8. Text Normalization"
   ]
  },
  {
   "cell_type": "code",
   "execution_count": 332,
   "metadata": {
    "id": "AIJ1a-Zc5PY8"
   },
   "outputs": [],
   "source": [
    "# Normalizing Text (i.e., Stemming, Lemmatization etc.)\n",
    "def lemmatize_text(text):\n",
    "    text = ' '.join(text)\n",
    "    doc = nlp(text)\n",
    "    return ' '.join([token.lemma_ for token in doc if token.is_alpha and not token.is_stop])\n",
    "\n",
    "org_df['Customer Remarks Normalized'] = org_df['Customer Remarks Tokens'].apply(lemmatize_text)"
   ]
  },
  {
   "cell_type": "markdown",
   "metadata": {
    "id": "cJNqERVU536h"
   },
   "source": [
    "##### Which text normalization technique have you used and why?"
   ]
  },
  {
   "cell_type": "markdown",
   "metadata": {
    "id": "Z9jKVxE06BC1"
   },
   "source": [
    "Answer Here.:\n",
    "1. I have used **Lemmatization**, as it reduces the words to their base or dictionary from.\n",
    "2. It reduces the vocabulary size and gives cleaner input for ML models and preserves meaning."
   ]
  },
  {
   "cell_type": "markdown",
   "metadata": {
    "id": "k5UmGsbsOxih"
   },
   "source": [
    "#### 9. Part of speech tagging"
   ]
  },
  {
   "cell_type": "code",
   "execution_count": 333,
   "metadata": {
    "id": "btT3ZJBAO6Ik"
   },
   "outputs": [
    {
     "name": "stdout",
     "output_type": "stream",
     "text": [
      "0                                         [(remark, NOUN)]\n",
      "1                                         [(remark, NOUN)]\n",
      "2                                         [(remark, NOUN)]\n",
      "3                                         [(remark, NOUN)]\n",
      "4                                         [(remark, NOUN)]\n",
      "                               ...                        \n",
      "85902                                     [(remark, NOUN)]\n",
      "85903    [(support, NOUN), (team, NOUN), (customer, NOU...\n",
      "85904    [(need, AUX), (improve, VERB), (proper, ADJ), ...\n",
      "85905                                     [(remark, NOUN)]\n",
      "85906                                     [(remark, NOUN)]\n",
      "Name: Customer Remarks POS, Length: 85907, dtype: object\n"
     ]
    }
   ],
   "source": [
    "# POS Taging\n",
    "# Loading SpaCy English model\n",
    "nlp = spacy.load(\"en_core_web_sm\")\n",
    "\n",
    "# POS tagging function\n",
    "def get_pos_tags(text):\n",
    "    doc = nlp(text)\n",
    "    return [(token.text, token.pos_) for token in doc]\n",
    "\n",
    "# Applying to normalized remarks\n",
    "org_df['Customer Remarks POS'] = org_df['Customer Remarks Normalized'].apply(get_pos_tags)\n",
    "\n",
    "print(org_df['Customer Remarks POS'])"
   ]
  },
  {
   "cell_type": "markdown",
   "metadata": {
    "id": "T0VqWOYE6DLQ"
   },
   "source": [
    "#### 10. Text Vectorization"
   ]
  },
  {
   "cell_type": "code",
   "execution_count": 334,
   "metadata": {
    "id": "yBRtdhth6JDE"
   },
   "outputs": [],
   "source": [
    "# Vectorizing Text\n",
    "# Converting list of tokens/words back into string\n",
    "org_df['Customer Remarks POS Text'] = org_df['Customer Remarks POS'].apply(lambda x: ' '.join([word for word, pos in x]) if isinstance(x, list) else '')\n",
    "\n",
    "# TF-IDF\n",
    "tfidf = TfidfVectorizer(max_features=1000)\n",
    "X_tfidf = tfidf.fit_transform(org_df['Customer Remarks POS Text'])\n",
    "tfidf_df = pd.DataFrame(X_tfidf.toarray(), columns=tfidf.get_feature_names_out()) # converting to dataframe\n",
    "org_df = pd.concat([org_df.reset_index(drop=True), tfidf_df.reset_index(drop=True)], axis=1)"
   ]
  },
  {
   "cell_type": "markdown",
   "metadata": {
    "id": "qBMux9mC6MCf"
   },
   "source": [
    "##### Which text vectorization technique have you used and why?"
   ]
  },
  {
   "cell_type": "markdown",
   "metadata": {
    "id": "su2EnbCh6UKQ"
   },
   "source": [
    "Answer Here.:-> I have used **TF-IDF**, because it balances word frequency with rarity and removes common word bias.\n",
    "2. It also is best for ML models like XGBoost , RF and CatBoost."
   ]
  },
  {
   "cell_type": "markdown",
   "metadata": {
    "id": "-oLEiFgy-5Pf"
   },
   "source": [
    "### 4. Feature Manipulation & Selection"
   ]
  },
  {
   "cell_type": "markdown",
   "metadata": {
    "id": "C74aWNz2AliB"
   },
   "source": [
    "#### 1. Feature Manipulation"
   ]
  },
  {
   "cell_type": "code",
   "execution_count": 335,
   "metadata": {
    "id": "h1qC4yhBApWC"
   },
   "outputs": [],
   "source": [
    "# Manipulate Features to minimize feature correlation and create new features\n",
    "\n",
    "# Using org_df for feature manipulation for CatBoost\n",
    "\n",
    "org_df['Tenure_Shift'] = org_df['Tenure Bucket'].astype(str) + '_' + org_df['Agent Shift'].astype(str)\n",
    "\n",
    "# Response time bucket\n",
    "org_df['response_time_bucket'] = pd.cut(org_df['response_time_hr'],\n",
    "    bins=[0, 1, 3, 6, 12, 24, float('inf')],\n",
    "    labels=['<1hr', '1-3hr', '3-6hr', '6-12hr', '12-24hr', '>24hr'])\n",
    "\n",
    "# Weekend Flag\n",
    "org_df['issue_day'] = org_df['Issue_reported at'].dt.dayofweek\n",
    "org_df['issue_is_weekend'] = org_df['issue_day'].apply(lambda x: 1 if x >= 5 else 0)\n",
    "\n",
    "# Agent workload (Freq count)\n",
    "org_df['Agent_name_freq'] = org_df['Agent_name'].map(org_df['Agent_name'].value_counts())"
   ]
  },
  {
   "cell_type": "markdown",
   "metadata": {
    "id": "2DejudWSA-a0"
   },
   "source": [
    "#### 2. Feature Selection"
   ]
  },
  {
   "cell_type": "code",
   "execution_count": 336,
   "metadata": {
    "id": "YLhe8UmaBCEE"
   },
   "outputs": [
    {
     "name": "stdout",
     "output_type": "stream",
     "text": [
      "Low-Variance Features Removed...\n",
      "\n",
      "Removed 0 highly correlated features...\n",
      "\n",
      "Selected Features after all steps:\n",
      " ['channel_name', 'Sub-category', 'Agent_name', 'Supervisor', 'response_time_hr']\n"
     ]
    }
   ],
   "source": [
    "# Select your features wisely to avoid overfitting\n",
    "\n",
    "# We are using df here for RF and XGBoost\n",
    "\n",
    "# Defining target variable\n",
    "y = df['CSAT_binary']\n",
    "\n",
    "# Defining feature set\n",
    "X = df.drop(['CSAT Score', 'CSAT_binary'], axis=1, errors='ignore')  # drop target + text\n",
    "X_numeric = X.select_dtypes(include=['int64', 'float64'])\n",
    "\n",
    "# 1. Removing Low-Variance Features using a threshold\n",
    "var_thresh = VarianceThreshold(threshold=0.01)\n",
    "X_var = var_thresh.fit_transform(X_numeric)\n",
    "selected_cols_var = X_numeric.columns[var_thresh.get_support()]\n",
    "\n",
    "X = pd.DataFrame(X_var, columns=selected_cols_var)\n",
    "\n",
    "print(\"Low-Variance Features Removed...\\n\")\n",
    "\n",
    "# 2. Removing Highly Correlated Features\n",
    "corr_matrix = X.corr().abs()\n",
    "upper = corr_matrix.where(np.triu(np.ones(corr_matrix.shape), k=1).astype(bool))  # Upper triangle of correlation matrix\n",
    "to_drop = [column for column in upper.columns if any(upper[column] > 0.9)] # Dropping features with corr>0.9\n",
    "X.drop(columns=to_drop, inplace=True)\n",
    "\n",
    "print(f\"Removed {len(to_drop)} highly correlated features...\\n\")\n",
    "\n",
    "# 3. Model-Based Selection (Random Forest)\n",
    "model = RandomForestClassifier(n_estimators=100, random_state=42)\n",
    "model.fit(X, y)\n",
    "\n",
    "sfm = SelectFromModel(model, threshold='median')  # Selecting features based on importance \n",
    "sfm.fit(X, y)\n",
    "\n",
    "selected_features = X.columns[sfm.get_support()]  # Final selected features \n",
    "X_selected = X[selected_features]\n",
    "\n",
    "print('Selected Features after all steps:\\n', list(selected_features))"
   ]
  },
  {
   "cell_type": "code",
   "execution_count": 337,
   "metadata": {},
   "outputs": [
    {
     "name": "stdout",
     "output_type": "stream",
     "text": [
      "Categorical Features for CatBoost:\n",
      " ['channel_name', 'category', 'Sub-category', 'Agent_name', 'Supervisor', 'Manager', 'Tenure Bucket', 'Agent Shift', 'Customer Remarks POS Text', 'Tenure_Shift', 'response_time_bucket']\n"
     ]
    }
   ],
   "source": [
    "# For CatBoost org_df\n",
    "y_cat = org_df['CSAT_binary']\n",
    "drop_cols = ['CSAT Score', 'CSAT_binary', 'Survey_response_Date', \n",
    "             'Customer Remarks', 'Customer Remarks Corrected', \n",
    "             'Customer Remarks Tokens', 'Customer Remarks Normalized', \n",
    "             'Customer Remarks POS','order_date_time', 'issue_responded', 'Issue_reported at', \n",
    "             'issue_day', 'Customer Remarks Expanded', 'Customer Remarks NoStopwords']\n",
    "X_cat = org_df.drop(columns=drop_cols, errors='ignore')\n",
    "\n",
    "# Categorical cols to pass to CatBoost\n",
    "cat_features = X_cat.select_dtypes(include=['object', 'category']).columns.tolist()\n",
    "\n",
    "print(\"Categorical Features for CatBoost:\\n\", cat_features)"
   ]
  },
  {
   "cell_type": "markdown",
   "metadata": {
    "id": "pEMng2IbBLp7"
   },
   "source": [
    "##### What all feature selection methods have you used  and why?"
   ]
  },
  {
   "cell_type": "markdown",
   "metadata": {
    "id": "rb2Lh6Z8BgGs"
   },
   "source": [
    "Answer Here.:\n",
    "1. **Variance Threshold**: It removes the features with very low variance because such features don't contribute to meaningful patterns and may add noise and risk overfitting.\n",
    "2. **Removing Highly Correlated Features**: I removed one of the 2 features that are highly correlated, cause they may cause multicollinearity.\n",
    "3. **Feature Selection using Random Forest**: Here, The RF is not used for model training but for selecting the important features, it helps us rank features based on how useful they are for making decisions."
   ]
  },
  {
   "cell_type": "markdown",
   "metadata": {
    "id": "rAdphbQ9Bhjc"
   },
   "source": [
    "##### Which all features you found important and why?"
   ]
  },
  {
   "cell_type": "markdown",
   "metadata": {
    "id": "fGgaEstsBnaf"
   },
   "source": [
    "Answer Here.:\n",
    "\n",
    "Important features which survived feature selection process are:\n",
    "1. *channel_name*: This feature had enough variance and non-redundant impact on CSAT.\n",
    "2. *Sub-category*: This feature might indirectly indicate complexity or urgency.\n",
    "3. *Agent_name*: This indicated that some Agents might be more efficient, leading to higher satisfaction scores.\n",
    "4. *Supervisor*: This means that management might influence team performance and ultimately CSAT scores.\n",
    "5. *response_time_hr*: This told us how fast the issue was responded to and has a clear affect on CSAT Scores."
   ]
  },
  {
   "cell_type": "markdown",
   "metadata": {
    "id": "TNVZ9zx19K6k"
   },
   "source": [
    "### 5. Data Transformation"
   ]
  },
  {
   "cell_type": "markdown",
   "metadata": {
    "id": "nqoHp30x9hH9"
   },
   "source": [
    "#### Do you think that your data needs to be transformed? If yes, which transformation have you used. Explain Why?\n",
    "\n",
    "Answer:\n",
    "1. No, any of the dataframes org_df for CatBoost or df for RF and XGBoost **don't need transformation** as we are not using models like KNN or Logistic Regression.\n",
    "\n"
   ]
  },
  {
   "cell_type": "markdown",
   "metadata": {
    "id": "rMDnDkt2B6du"
   },
   "source": [
    "### 6. Data Scaling"
   ]
  },
  {
   "cell_type": "markdown",
   "metadata": {
    "id": "yiiVWRdJDDil"
   },
   "source": [
    "1. Also we **don't need Data Scaling/ Normalization** as we don't need it for RF, XGBoost, or CatBoost; we only need them for models like SVM, KNN, or Logistic Regression."
   ]
  },
  {
   "cell_type": "markdown",
   "metadata": {
    "id": "1UUpS68QDMuG"
   },
   "source": [
    "### 7. Dimesionality Reduction"
   ]
  },
  {
   "cell_type": "markdown",
   "metadata": {
    "id": "kexQrXU-DjzY"
   },
   "source": [
    "##### Do you think that dimensionality reduction is needed? Explain Why?"
   ]
  },
  {
   "cell_type": "markdown",
   "metadata": {
    "id": "GGRlBsSGDtTQ"
   },
   "source": [
    "Answer Here.:\n",
    "1. In our Model **Dimensionality Reduction is not needed** as after selection there are very less features remaining."
   ]
  },
  {
   "cell_type": "markdown",
   "metadata": {
    "id": "T5CmagL3EC8N"
   },
   "source": [
    "##### Which dimensionality reduction technique have you used and why? (If dimensionality reduction done on dataset.)"
   ]
  },
  {
   "cell_type": "markdown",
   "metadata": {
    "id": "ZKr75IDuEM7t"
   },
   "source": [
    "Answer Here.: ***NO DIMENSIONALITY REDUCTION NEEDED***"
   ]
  },
  {
   "cell_type": "markdown",
   "metadata": {
    "id": "BhH2vgX9EjGr"
   },
   "source": [
    "### 8. Data Splitting"
   ]
  },
  {
   "cell_type": "code",
   "execution_count": 338,
   "metadata": {
    "id": "0CTyd2UwEyNM"
   },
   "outputs": [],
   "source": [
    "# Split your data to train and test. Choose Splitting ratio wisely.\n",
    "X_train, X_test, y_train, y_test = train_test_split(X_selected, y, test_size=0.2, random_state=42, stratify=y)\n",
    "\n",
    "# For CatBoost using org_df\n",
    "X_train_cat, X_test_cat, y_train_cat, y_test_cat = train_test_split(X_cat, y_cat, test_size=0.2, random_state=42, stratify=y_cat)\n"
   ]
  },
  {
   "cell_type": "markdown",
   "metadata": {
    "id": "qjKvONjwE8ra"
   },
   "source": [
    "##### What data splitting ratio have you used and why?"
   ]
  },
  {
   "cell_type": "markdown",
   "metadata": {
    "id": "Y2lJ8cobFDb_"
   },
   "source": [
    "Answer Here.:\n",
    "\n",
    "I have used **80-20 split**, that is, 80% for training and 20% for testing; this was chosen because it is best split for general data."
   ]
  },
  {
   "cell_type": "markdown",
   "metadata": {
    "id": "P1XJ9OREExlT"
   },
   "source": [
    "### 9. Handling Imbalanced Dataset"
   ]
  },
  {
   "cell_type": "markdown",
   "metadata": {
    "id": "VFOzZv6IFROw"
   },
   "source": [
    "##### Do you think the dataset is imbalanced? Explain Why."
   ]
  },
  {
   "cell_type": "markdown",
   "metadata": {
    "id": "GeKDIv7pFgcC"
   },
   "source": [
    "Answer Here.:\n",
    "1. Yes, the data needs balancing as we tested below the satisfied class has around 82.5% and unsatisfied is around 17.5%.\n",
    "2. We need to balance it using Class Weights."
   ]
  },
  {
   "cell_type": "code",
   "execution_count": 339,
   "metadata": {
    "id": "nQsRhhZLFiDs"
   },
   "outputs": [
    {
     "name": "stdout",
     "output_type": "stream",
     "text": [
      "CSAT_binary\n",
      "1    82.456166\n",
      "0    17.543834\n",
      "Name: proportion, dtype: float64\n"
     ]
    }
   ],
   "source": [
    "# Handling Imbalanced Dataset (If needed)\n",
    "\n",
    "# Checking for imbalance\n",
    "print(y_train.value_counts(normalize=True) * 100)\n",
    "\n",
    "# Random Forest\n",
    "rf_model = RandomForestClassifier(class_weight='balanced', random_state=42)\n",
    "\n",
    "# XGBoost\n",
    "neg, pos = y_train.value_counts() # computing scale_pos_weight = count(-ve)/count(+ve)\n",
    "scale_pos_weight = neg / pos\n",
    "xgb_model = XGBClassifier(scale_pos_weight=scale_pos_weight, random_state=42)\n",
    "\n",
    "# CatBoost\n",
    "model_cat = CatBoostClassifier(auto_class_weights='Balanced', random_state=42, verbose=100)"
   ]
  },
  {
   "cell_type": "markdown",
   "metadata": {
    "id": "TIqpNgepFxVj"
   },
   "source": [
    "##### What technique did you use to handle the imbalance dataset and why? (If needed to be balanced)"
   ]
  },
  {
   "cell_type": "markdown",
   "metadata": {
    "id": "qbet1HwdGDTz"
   },
   "source": [
    "Answer Here.:\n",
    "1. I have used Class Weights to tackle the imbalances.\n",
    "2. It Increases the Penalty for misclassifying the minority class samples."
   ]
  },
  {
   "cell_type": "markdown",
   "metadata": {
    "id": "VfCC591jGiD4"
   },
   "source": [
    "## ***7. ML Model Implementation***"
   ]
  },
  {
   "cell_type": "markdown",
   "metadata": {
    "id": "OB4l2ZhMeS1U"
   },
   "source": [
    "### ML Model - 1"
   ]
  },
  {
   "cell_type": "code",
   "execution_count": 340,
   "metadata": {
    "id": "7ebyywQieS1U"
   },
   "outputs": [],
   "source": [
    "# ML Model - 1 Implementation\n",
    "## RANDOM FOREST\n",
    "# Fit the Algorithm\n",
    "rf_model.fit(X_train, y_train)\n",
    "\n",
    "# Predict on the model\n",
    "y_pred = rf_model.predict(X_test)\n",
    "y_proba = rf_model.predict_proba(X_test)[:, 1]  # for ROC AUC"
   ]
  },
  {
   "cell_type": "markdown",
   "metadata": {
    "id": "ArJBuiUVfxKd"
   },
   "source": [
    "#### 1. Explain the ML Model used and it's performance using Evaluation metric Score Chart."
   ]
  },
  {
   "cell_type": "code",
   "execution_count": 341,
   "metadata": {
    "id": "rqD5ZohzfxKe"
   },
   "outputs": [
    {
     "name": "stderr",
     "output_type": "stream",
     "text": [
      "C:\\Users\\ADMIN\\AppData\\Local\\Temp\\ipykernel_24968\\115553158.py:11: FutureWarning: \n",
      "\n",
      "Passing `palette` without assigning `hue` is deprecated and will be removed in v0.14.0. Assign the `x` variable to `hue` and set `legend=False` for the same effect.\n",
      "\n",
      "  sns.barplot(x=list(metrics.keys()), y=list(metrics.values()), palette='Set2')\n"
     ]
    },
    {
     "data": {
      "image/png": "[encoded data removed]",
      "text/plain": [
       "<Figure size 800x500 with 1 Axes>"
      ]
     },
     "metadata": {},
     "output_type": "display_data"
    }
   ],
   "source": [
    "# Visualizing evaluation Metric Score chart\n",
    "metrics = {\n",
    "    'Accuracy': accuracy_score(y_test, y_pred),\n",
    "    'Precision': precision_score(y_test, y_pred),\n",
    "    'Recall': recall_score(y_test, y_pred),\n",
    "    'F1 Score': f1_score(y_test, y_pred)\n",
    "}\n",
    "\n",
    "# Plotting a bar graph\n",
    "plt.figure(figsize=(8,5))\n",
    "sns.barplot(x=list(metrics.keys()), y=list(metrics.values()), palette='Set2')\n",
    "plt.title(\"Model Evaluation Metrics\")\n",
    "plt.ylabel(\"Score\")\n",
    "plt.ylim(0,1)\n",
    "plt.grid(True)\n",
    "plt.show()"
   ]
  },
  {
   "cell_type": "markdown",
   "metadata": {
    "id": "4qY1EAkEfxKe"
   },
   "source": [
    "#### 2. Cross- Validation & Hyperparameter Tuning"
   ]
  },
  {
   "cell_type": "code",
   "execution_count": 342,
   "metadata": {
    "id": "Dy61ujd6fxKe"
   },
   "outputs": [
    {
     "name": "stdout",
     "output_type": "stream",
     "text": [
      "Fitting 5 folds for each of 48 candidates, totalling 240 fits\n",
      "Best Parameters:\n",
      " {'bootstrap': True, 'max_depth': None, 'min_samples_leaf': 1, 'min_samples_split': 2, 'n_estimators': 200}\n",
      "\n",
      "Classification Report:\n",
      "               precision    recall  f1-score   support\n",
      "\n",
      "           0       0.24      0.21      0.22      3014\n",
      "           1       0.84      0.86      0.85     14168\n",
      "\n",
      "    accuracy                           0.75     17182\n",
      "   macro avg       0.54      0.53      0.54     17182\n",
      "weighted avg       0.73      0.75      0.74     17182\n",
      "\n"
     ]
    }
   ],
   "source": [
    "# ML Model - 1 Implementation with hyperparameter optimization techniques (i.e., GridSearch CV, RandomSearch CV, Bayesian Optimization etc.)\n",
    "# Hyperparameter grid\n",
    "param_grid = {\n",
    "    'n_estimators': [100, 200],\n",
    "    'max_depth': [None, 10, 20],\n",
    "    'min_samples_split': [2, 5],\n",
    "    'min_samples_leaf': [1, 2],\n",
    "    'bootstrap': [True, False]\n",
    "}\n",
    "rf = RandomForestClassifier(random_state=42, class_weight='balanced')\n",
    "\n",
    "grid_search = GridSearchCV(estimator=rf, param_grid=param_grid,cv=5, scoring='f1', n_jobs=-1, verbose=1)\n",
    "\n",
    "# Fit the Algorithm\n",
    "grid_search.fit(X_train, y_train)\n",
    "\n",
    "best_rf = grid_search.best_estimator_\n",
    "\n",
    "# Predict on the model\n",
    "y_pred = best_rf.predict(X_test)\n",
    "\n",
    "print(\"Best Parameters:\\n\", grid_search.best_params_)\n",
    "print(\"\\nClassification Report:\\n\", classification_report(y_test, y_pred))"
   ]
  },
  {
   "cell_type": "markdown",
   "metadata": {
    "id": "PiV4Ypx8fxKe"
   },
   "source": [
    "##### Which hyperparameter optimization technique have you used and why?"
   ]
  },
  {
   "cell_type": "markdown",
   "metadata": {
    "id": "negyGRa7fxKf"
   },
   "source": [
    "Answer Here.:\n",
    "1. I have used Grid Search for hyperparameter tuning.\n",
    "2. It tries all the combinations of the hyperparameters in the parameter grid to find the best set using cross-validation.\n",
    "3. This cross-validation ensures we generalize well by testing on multiple folds of the data."
   ]
  },
  {
   "cell_type": "markdown",
   "metadata": {
    "id": "TfvqoZmBfxKf"
   },
   "source": [
    "##### Have you seen any improvement? Note down the improvement with updates Evaluation metric Score Chart."
   ]
  },
  {
   "cell_type": "markdown",
   "metadata": {
    "id": "OaLui8CcfxKf"
   },
   "source": [
    "Answer Here.:\n",
    "1. There is a slight optimization on the majority class(Class 1).\n",
    "2. However, there is no improvement on Minority Class (Class 0), and it remains poor.\n",
    "3. The overall accuracy remained almost the same, ~75%."
   ]
  },
  {
   "cell_type": "markdown",
   "metadata": {
    "id": "dJ2tPlVmpsJ0"
   },
   "source": [
    "### ML Model - 2"
   ]
  },
  {
   "cell_type": "code",
   "execution_count": 343,
   "metadata": {},
   "outputs": [],
   "source": [
    "# ML Model - 2 Implementation\n",
    "## XGBoost\n",
    "# Fit the Algorithm\n",
    "xgb_model.fit(X_train, y_train)\n",
    "\n",
    "# Predict on the model\n",
    "y_pred = xgb_model.predict(X_test)"
   ]
  },
  {
   "cell_type": "markdown",
   "metadata": {
    "id": "JWYfwnehpsJ1"
   },
   "source": [
    "#### 1. Explain the ML Model used and it's performance using Evaluation metric Score Chart."
   ]
  },
  {
   "cell_type": "code",
   "execution_count": 344,
   "metadata": {
    "id": "yEl-hgQWpsJ1"
   },
   "outputs": [
    {
     "name": "stdout",
     "output_type": "stream",
     "text": [
      "Accuracy: 0.8245256663950646\n",
      "Confusion Matrix:\n",
      " [[   17  2997]\n",
      " [   18 14150]]\n",
      "Classification Report:\n",
      "               precision    recall  f1-score   support\n",
      "\n",
      "           0       0.49      0.01      0.01      3014\n",
      "           1       0.83      1.00      0.90     14168\n",
      "\n",
      "    accuracy                           0.82     17182\n",
      "   macro avg       0.66      0.50      0.46     17182\n",
      "weighted avg       0.77      0.82      0.75     17182\n",
      "\n"
     ]
    },
    {
     "data": {
      "image/png": "[encoded data removed]",
      "text/plain": [
       "<Figure size 640x480 with 2 Axes>"
      ]
     },
     "metadata": {},
     "output_type": "display_data"
    }
   ],
   "source": [
    "print(\"Accuracy:\", accuracy_score(y_test, y_pred))\n",
    "print(\"Confusion Matrix:\\n\", confusion_matrix(y_test, y_pred))\n",
    "print(\"Classification Report:\\n\", classification_report(y_test, y_pred))\n",
    "\n",
    "# Visualizing evaluation Metric Score chart\n",
    "ConfusionMatrixDisplay.from_estimator(xgb_model, X_test, y_test, cmap='Blues')\n",
    "plt.title(\"XGBoost Confusion Matrix\")\n",
    "plt.show()"
   ]
  },
  {
   "cell_type": "markdown",
   "metadata": {
    "id": "-jK_YjpMpsJ2"
   },
   "source": [
    "#### 2. Cross- Validation & Hyperparameter Tuning"
   ]
  },
  {
   "cell_type": "code",
   "execution_count": 345,
   "metadata": {
    "id": "Dn0EOfS6psJ2"
   },
   "outputs": [
    {
     "name": "stdout",
     "output_type": "stream",
     "text": [
      "Fitting 5 folds for each of 30 candidates, totalling 150 fits\n"
     ]
    },
    {
     "name": "stderr",
     "output_type": "stream",
     "text": [
      "c:\\Users\\ADMIN\\AppData\\Local\\Programs\\Python\\Python310\\lib\\site-packages\\xgboost\\training.py:183: UserWarning: [01:07:34] WARNING: C:\\actions-runner\\_work\\xgboost\\xgboost\\src\\learner.cc:738: \n",
      "Parameters: { \"use_label_encoder\" } are not used.\n",
      "\n",
      "  bst.update(dtrain, iteration=i, fobj=obj)\n"
     ]
    },
    {
     "name": "stdout",
     "output_type": "stream",
     "text": [
      "Best Parameters: {'subsample': 1.0, 'reg_lambda': 1, 'reg_alpha': 0, 'n_estimators': 200, 'max_depth': 7, 'learning_rate': 0.2, 'gamma': 0, 'colsample_bytree': 0.7}\n",
      "\n",
      "Classification Report:\n",
      "               precision    recall  f1-score   support\n",
      "\n",
      "           0       0.49      0.01      0.01      3014\n",
      "           1       0.83      1.00      0.90     14168\n",
      "\n",
      "    accuracy                           0.82     17182\n",
      "   macro avg       0.66      0.50      0.46     17182\n",
      "weighted avg       0.77      0.82      0.75     17182\n",
      "\n",
      "\n",
      "Confusion Matrix:\n",
      " [[   18  2996]\n",
      " [   19 14149]]\n"
     ]
    }
   ],
   "source": [
    "# ML Model - 1 Implementation with hyperparameter optimization techniques (i.e., GridSearch CV, RandomSearch CV, Bayesian Optimization etc.)\n",
    "# Parameter Grid\n",
    "param_dist = {\n",
    "    'n_estimators': [100, 200, 300],\n",
    "    'learning_rate': [0.01, 0.05, 0.1, 0.2],\n",
    "    'max_depth': [3, 5, 7, 10],\n",
    "    'subsample': [0.5, 0.7, 1.0],\n",
    "    'colsample_bytree': [0.5, 0.7, 1.0],\n",
    "    'gamma': [0, 0.1, 0.3],\n",
    "    'reg_alpha': [0, 0.1, 1],\n",
    "    'reg_lambda': [1, 1.5, 2]\n",
    "}\n",
    "\n",
    "# Initializing model\n",
    "neg, pos = y_train.value_counts()\n",
    "scale_pos_weight = neg / pos\n",
    "xgb = XGBClassifier(objective='binary:logistic',scale_pos_weight=scale_pos_weight,use_label_encoder=False,eval_metric='logloss',random_state=42)\n",
    "\n",
    "# RandomizedSearchCV with Cross-validation\n",
    "kfold = StratifiedKFold(n_splits=5, shuffle=True, random_state=42)\n",
    "\n",
    "random_search = RandomizedSearchCV(estimator=xgb, param_distributions=param_dist, n_iter=30, scoring='f1', n_jobs=-1, cv=kfold, verbose=1, random_state=42)\n",
    "\n",
    "# Fit the Algorithm\n",
    "random_search.fit(X_train, y_train)\n",
    "print(\"Best Parameters:\", random_search.best_params_)\n",
    "\n",
    "# Predict on the model\n",
    "best_xgb = random_search.best_estimator_\n",
    "y_pred = best_xgb.predict(X_test)\n",
    "\n",
    "print(\"\\nClassification Report:\\n\", classification_report(y_test, y_pred))\n",
    "print(\"\\nConfusion Matrix:\\n\", confusion_matrix(y_test, y_pred))"
   ]
  },
  {
   "cell_type": "markdown",
   "metadata": {
    "id": "HAih1iBOpsJ2"
   },
   "source": [
    "##### Which hyperparameter optimization technique have you used and why?"
   ]
  },
  {
   "cell_type": "markdown",
   "metadata": {
    "id": "9kBgjYcdpsJ2"
   },
   "source": [
    "Answer Here.:\n",
    "1. Here, I have used RandomizedSearchCV, because it is efficient when the parameter space is large.\n",
    "2. Rather than trying every combination(like in GridSearchCV), it samples a fixed number of random combinations and thus is significantly faster and flexible."
   ]
  },
  {
   "cell_type": "markdown",
   "metadata": {
    "id": "zVGeBEFhpsJ2"
   },
   "source": [
    "##### Have you seen any improvement? Note down the improvement with updates Evaluation metric Score Chart."
   ]
  },
  {
   "cell_type": "markdown",
   "metadata": {
    "id": "74yRdG6UpsJ3"
   },
   "source": [
    "Answer Here.:\n",
    "1. No, even after the hyperparameter tuning it seems there is no change in Satisfied and Unsatisfied accuracy.\n",
    "2. Even though the overall accuracy of the model is ~82%, it still predicts the minority very poorly.\n",
    "3. This ultimately seems an issue of major imbalance in data.\n",
    "\n",
    "4. If we need better accuracy and macro avg:\n",
    "*To fix this issue we might need to remove imbalance by duplicating the minority using Artificial duplicating methods like, SMOTE or ADASYN.*"
   ]
  },
  {
   "cell_type": "markdown",
   "metadata": {
    "id": "bmKjuQ-FpsJ3"
   },
   "source": [
    "#### 3. Explain each evaluation metric's indication towards business and the business impact pf the ML model used."
   ]
  },
  {
   "cell_type": "markdown",
   "metadata": {
    "id": "BDKtOrBQpsJ3"
   },
   "source": [
    "Answer Here."
   ]
  },
  {
   "cell_type": "markdown",
   "metadata": {
    "id": "Fze-IPXLpx6K"
   },
   "source": [
    "### ML Model - 3"
   ]
  },
  {
   "cell_type": "code",
   "execution_count": 349,
   "metadata": {
    "id": "FFrSXAtrpx6M"
   },
   "outputs": [
    {
     "name": "stdout",
     "output_type": "stream",
     "text": [
      "Learning rate set to 0.062717\n",
      "0:\tlearn: 0.6819458\ttotal: 229ms\tremaining: 3m 48s\n",
      "100:\tlearn: 0.5728604\ttotal: 8.77s\tremaining: 1m 18s\n",
      "200:\tlearn: 0.5632688\ttotal: 17.2s\tremaining: 1m 8s\n",
      "300:\tlearn: 0.5541991\ttotal: 25.7s\tremaining: 59.7s\n",
      "400:\tlearn: 0.5477068\ttotal: 34.3s\tremaining: 51.2s\n",
      "500:\tlearn: 0.5424588\ttotal: 43.2s\tremaining: 43s\n",
      "600:\tlearn: 0.5376859\ttotal: 52.3s\tremaining: 34.7s\n",
      "700:\tlearn: 0.5336318\ttotal: 1m 1s\tremaining: 26.2s\n",
      "800:\tlearn: 0.5297910\ttotal: 1m 10s\tremaining: 17.5s\n",
      "900:\tlearn: 0.5263690\ttotal: 1m 19s\tremaining: 8.71s\n",
      "999:\tlearn: 0.5231739\ttotal: 1m 28s\tremaining: 0us\n"
     ]
    }
   ],
   "source": [
    "# ML Model - 3 Implementation\n",
    "## CatBoost(org_df)\n",
    "# Ensure 'Unknown' is added as a valid category before filling NaNs\n",
    "for col in cat_features:\n",
    "    if X_train_cat[col].dtype.name == 'category':\n",
    "        X_train_cat[col] = X_train_cat[col].cat.add_categories('Unknown')\n",
    "        X_test_cat[col] = X_test_cat[col].cat.add_categories('Unknown')\n",
    "\n",
    "X_train_cat[cat_features] = X_train_cat[cat_features].fillna('Unknown')\n",
    "X_test_cat[cat_features] = X_test_cat[cat_features].fillna('Unknown')\n",
    "# Fit the Algorithm\n",
    "model_cat.fit(X_train_cat, y_train_cat, cat_features=cat_features)\n",
    "\n",
    "# Predict on the model\n",
    "y_pred_cat = model_cat.predict(X_test_cat)"
   ]
  },
  {
   "cell_type": "markdown",
   "metadata": {
    "id": "7AN1z2sKpx6M"
   },
   "source": [
    "#### 1. Explain the ML Model used and it's performance using Evaluation metric Score Chart."
   ]
  },
  {
   "cell_type": "code",
   "execution_count": 350,
   "metadata": {
    "id": "xIY4lxxGpx6M"
   },
   "outputs": [
    {
     "name": "stdout",
     "output_type": "stream",
     "text": [
      "Accuracy: 0.7225002910022116\n",
      "Confusion Matrix:\n",
      " [[ 1970  1044]\n",
      " [ 3724 10444]]\n",
      "Classification Report:\n",
      "               precision    recall  f1-score   support\n",
      "\n",
      "           0       0.35      0.65      0.45      3014\n",
      "           1       0.91      0.74      0.81     14168\n",
      "\n",
      "    accuracy                           0.72     17182\n",
      "   macro avg       0.63      0.70      0.63     17182\n",
      "weighted avg       0.81      0.72      0.75     17182\n",
      "\n"
     ]
    },
    {
     "data": {
      "image/png": "[encoded data removed]",
      "text/plain": [
       "<Figure size 640x480 with 1 Axes>"
      ]
     },
     "metadata": {},
     "output_type": "display_data"
    }
   ],
   "source": [
    "print(\"Accuracy:\", accuracy_score(y_test_cat, y_pred_cat))\n",
    "print(\"Confusion Matrix:\\n\", confusion_matrix(y_test_cat, y_pred_cat))\n",
    "print(\"Classification Report:\\n\", classification_report(y_test_cat, y_pred_cat))\n",
    "\n",
    "# Visualizing evaluation Metric Score chart\n",
    "report = classification_report(y_test_cat, y_pred_cat, output_dict=True)  # get report as dict\n",
    "report_df = pd.DataFrame(report).transpose()  # to df for ease\n",
    "report_df_filtered = report_df.loc[['0', '1'], ['precision', 'recall', 'f1-score']]  # Filtering class labels and metrics\n",
    "\n",
    "# Plotting plt.figure(figsize=(10, 6))\n",
    "report_df_filtered.plot(kind='bar', colormap='viridis')\n",
    "plt.title('Evaluation Metric Scores by Class')\n",
    "plt.xlabel('Class Label')\n",
    "plt.ylabel('Score')\n",
    "plt.ylim(0, 1)\n",
    "plt.xticks(rotation=0)\n",
    "plt.legend(loc='upper right')\n",
    "plt.grid(axis='y', linestyle='--', alpha=0.7)\n",
    "plt.tight_layout()\n",
    "plt.show()\n"
   ]
  },
  {
   "cell_type": "markdown",
   "metadata": {
    "id": "9PIHJqyupx6M"
   },
   "source": [
    "#### 2. Cross- Validation & Hyperparameter Tuning"
   ]
  },
  {
   "cell_type": "code",
   "execution_count": 355,
   "metadata": {
    "id": "eSVXuaSKpx6M"
   },
   "outputs": [
    {
     "name": "stderr",
     "output_type": "stream",
     "text": [
      "[I 2025-07-10 01:49:00,467] A new study created in memory with name: no-name-8deccfd2-b53f-49a6-b267-2763e2a89b03\n",
      "[I 2025-07-10 01:51:41,885] Trial 0 finished with value: 0.9133862030940978 and parameters: {'iterations': 286, 'learning_rate': 0.16478830210569126, 'depth': 10, 'l2_leaf_reg': 0.03450539928969541, 'random_strength': 0.2610545499737656, 'bagging_temperature': 0.8552592613347297, 'border_count': 223}. Best is trial 0 with value: 0.9133862030940978.\n",
      "[I 2025-07-10 01:53:52,514] Trial 1 finished with value: 0.9139390279304382 and parameters: {'iterations': 482, 'learning_rate': 0.25626382161284295, 'depth': 8, 'l2_leaf_reg': 2.5941881635904216, 'random_strength': 0.8473616995688263, 'bagging_temperature': 0.8096156270854007, 'border_count': 64}. Best is trial 1 with value: 0.9139390279304382.\n",
      "[I 2025-07-10 01:54:08,215] Trial 2 finished with value: 0.9132866240872941 and parameters: {'iterations': 195, 'learning_rate': 0.2857510178712951, 'depth': 5, 'l2_leaf_reg': 0.06297044454194091, 'random_strength': 0.8085978761517906, 'bagging_temperature': 0.605028157328622, 'border_count': 243}. Best is trial 1 with value: 0.9139390279304382.\n",
      "[I 2025-07-10 01:56:46,704] Trial 3 finished with value: 0.9136751953319356 and parameters: {'iterations': 410, 'learning_rate': 0.12171412300157577, 'depth': 9, 'l2_leaf_reg': 0.01423790419596835, 'random_strength': 0.6318769540623032, 'bagging_temperature': 0.09464866293733043, 'border_count': 130}. Best is trial 1 with value: 0.9139390279304382.\n",
      "[I 2025-07-10 01:57:30,812] Trial 4 finished with value: 0.9131744981443639 and parameters: {'iterations': 350, 'learning_rate': 0.21675339908205887, 'depth': 4, 'l2_leaf_reg': 0.05245148342330093, 'random_strength': 0.2596565656805311, 'bagging_temperature': 0.9767963681655872, 'border_count': 36}. Best is trial 1 with value: 0.9139390279304382.\n",
      "[I 2025-07-10 01:57:44,393] Trial 5 finished with value: 0.9113873351084567 and parameters: {'iterations': 182, 'learning_rate': 0.13135489313156837, 'depth': 4, 'l2_leaf_reg': 3.5012931615009673, 'random_strength': 0.2829974969501384, 'bagging_temperature': 0.12873199269625757, 'border_count': 42}. Best is trial 1 with value: 0.9139390279304382.\n",
      "[I 2025-07-10 01:58:29,496] Trial 6 finished with value: 0.9125322165613724 and parameters: {'iterations': 235, 'learning_rate': 0.13313972070429844, 'depth': 6, 'l2_leaf_reg': 0.6574747566653417, 'random_strength': 0.8151434341301347, 'bagging_temperature': 0.8634866800328056, 'border_count': 55}. Best is trial 1 with value: 0.9139390279304382.\n",
      "[I 2025-07-10 02:01:22,456] Trial 7 finished with value: 0.910137926769494 and parameters: {'iterations': 444, 'learning_rate': 0.012455385869345708, 'depth': 9, 'l2_leaf_reg': 0.1786711921718685, 'random_strength': 0.37086671853802433, 'bagging_temperature': 0.34679332395017903, 'border_count': 186}. Best is trial 1 with value: 0.9139390279304382.\n",
      "[I 2025-07-10 02:01:55,692] Trial 8 finished with value: 0.9120001534864907 and parameters: {'iterations': 200, 'learning_rate': 0.16402045031739196, 'depth': 5, 'l2_leaf_reg': 4.875240464933371, 'random_strength': 0.9287657998978887, 'bagging_temperature': 0.7471663065583959, 'border_count': 120}. Best is trial 1 with value: 0.9139390279304382.\n",
      "[I 2025-07-10 02:03:44,617] Trial 9 finished with value: 0.9116170906598704 and parameters: {'iterations': 400, 'learning_rate': 0.052759077214257176, 'depth': 8, 'l2_leaf_reg': 8.235240785061503, 'random_strength': 0.7646345434267467, 'bagging_temperature': 0.05355905434245367, 'border_count': 61}. Best is trial 1 with value: 0.9139390279304382.\n",
      "[I 2025-07-10 02:25:40,264] Trial 10 finished with value: 0.9140176280562553 and parameters: {'iterations': 492, 'learning_rate': 0.28164051381852395, 'depth': 7, 'l2_leaf_reg': 1.0726789152638077, 'random_strength': 0.5024527186175998, 'bagging_temperature': 0.4789611229528978, 'border_count': 102}. Best is trial 10 with value: 0.9140176280562553.\n",
      "[I 2025-07-10 02:25:53,837] Trial 11 finished with value: 0.9129564702300964 and parameters: {'iterations': 108, 'learning_rate': 0.2970468736955053, 'depth': 7, 'l2_leaf_reg': 1.0524284932212957, 'random_strength': 0.5403518785467689, 'bagging_temperature': 0.458001741402345, 'border_count': 96}. Best is trial 10 with value: 0.9140176280562553.\n",
      "[I 2025-07-10 02:27:40,178] Trial 12 finished with value: 0.914147641763571 and parameters: {'iterations': 488, 'learning_rate': 0.24636539778349098, 'depth': 7, 'l2_leaf_reg': 1.616697463624437, 'random_strength': 0.4945389213959698, 'bagging_temperature': 0.6084902573902702, 'border_count': 87}. Best is trial 12 with value: 0.914147641763571.\n",
      "[I 2025-07-10 02:29:29,942] Trial 13 finished with value: 0.9142638833622998 and parameters: {'iterations': 495, 'learning_rate': 0.22809879451276577, 'depth': 7, 'l2_leaf_reg': 0.3119851246476879, 'random_strength': 0.443173320497012, 'bagging_temperature': 0.5933655556934837, 'border_count': 164}. Best is trial 13 with value: 0.9142638833622998.\n",
      "[I 2025-07-10 02:30:32,780] Trial 14 finished with value: 0.913726073152288 and parameters: {'iterations': 342, 'learning_rate': 0.21794535129952686, 'depth': 6, 'l2_leaf_reg': 0.28896630110728866, 'random_strength': 0.1376828406772294, 'bagging_temperature': 0.6520984926287424, 'border_count': 170}. Best is trial 13 with value: 0.9142638833622998.\n"
     ]
    },
    {
     "name": "stdout",
     "output_type": "stream",
     "text": [
      "Classification Report:\n",
      "               precision    recall  f1-score   support\n",
      "\n",
      "           0       0.78      0.17      0.28      3014\n",
      "           1       0.85      0.99      0.91     14168\n",
      "\n",
      "    accuracy                           0.85     17182\n",
      "   macro avg       0.81      0.58      0.60     17182\n",
      "weighted avg       0.84      0.85      0.80     17182\n",
      "\n",
      "Confusion Matrix:\n",
      " [[  515  2499]\n",
      " [  145 14023]]\n"
     ]
    }
   ],
   "source": [
    "# ML Model - 3 Implementation with hyperparameter optimization techniques (i.e., GridSearch CV, RandomSearch CV, Bayesian Optimization etc.)\n",
    "\n",
    "# Function for Optuna with GPU\n",
    "def objective(trial):\n",
    "    params = {\n",
    "        'iterations': trial.suggest_int('iterations', 100, 500),\n",
    "        'learning_rate': trial.suggest_float('learning_rate', 0.01, 0.3),\n",
    "        'depth': trial.suggest_int('depth', 3, 10),\n",
    "        'l2_leaf_reg': trial.suggest_float('l2_leaf_reg', 1e-2, 10.0, log=True),\n",
    "        'random_strength': trial.suggest_float('random_strength', 0.1, 1.0),\n",
    "        'bagging_temperature': trial.suggest_float('bagging_temperature', 0, 1),\n",
    "        'border_count': trial.suggest_int('border_count', 32, 255),\n",
    "        'scale_pos_weight': neg / pos,\n",
    "        'eval_metric': 'F1',\n",
    "        'loss_function': 'Logloss',\n",
    "        'task_type': 'GPU',  # Enabling GPU\n",
    "        'verbose': 0,\n",
    "        'random_state': 42\n",
    "    }\n",
    "\n",
    "    f1_scores = []\n",
    "    skf = StratifiedKFold(n_splits=5, shuffle=True, random_state=42)\n",
    "    for train_idx, val_idx in skf.split(X_train_cat, y_train_cat):\n",
    "        X_tr, X_val = X_train_cat.iloc[train_idx], X_train_cat.iloc[val_idx]\n",
    "        y_tr, y_val = y_train_cat.iloc[train_idx], y_train_cat.iloc[val_idx]\n",
    "\n",
    "        model = CatBoostClassifier(**params)\n",
    "        model.fit(X_tr, y_tr, cat_features=cat_features, verbose=0)\n",
    "\n",
    "        preds = model.predict(X_val)\n",
    "        f1 = f1_score(y_val, preds)\n",
    "        f1_scores.append(f1)\n",
    "\n",
    "    return np.mean(f1_scores)\n",
    "\n",
    "# Running Optuna study\n",
    "study = optuna.create_study(direction='maximize')\n",
    "study.optimize(objective, n_trials=15)  # We can reduce the number of trials for faster execution\n",
    "\n",
    "# Fit the Algorithm\n",
    "best_params = study.best_params\n",
    "best_params.update({\n",
    "    'scale_pos_weight': neg / pos,\n",
    "    'eval_metric': 'F1',\n",
    "    'loss_function': 'Logloss',\n",
    "    'task_type': 'GPU',\n",
    "    'random_state': 42,\n",
    "    'verbose': 0\n",
    "})\n",
    "\n",
    "best_cat = CatBoostClassifier(**best_params)\n",
    "best_cat.fit(X_train_cat, y_train_cat, cat_features=cat_features)\n",
    "\n",
    "# Predict on the model\n",
    "y_pred_cat = best_cat.predict(X_test_cat)\n",
    "\n",
    "# Evaluating\n",
    "print(\"Classification Report:\\n\", classification_report(y_test_cat, y_pred_cat))\n",
    "print(\"Confusion Matrix:\\n\", confusion_matrix(y_test_cat, y_pred_cat))"
   ]
  },
  {
   "cell_type": "markdown",
   "metadata": {
    "id": "_-qAgymDpx6N"
   },
   "source": [
    "##### Which hyperparameter optimization technique have you used and why?"
   ]
  },
  {
   "cell_type": "markdown",
   "metadata": {
    "id": "lQMffxkwpx6N"
   },
   "source": [
    "Answer Here.:\n",
    "1. I have use Optuna(Bayesian Optimization) which is modern, automated hyperparameter optimization framework.\n",
    "2. It uses Bayesian Optimization techniques, like Tree-structured Parzen Estimator - TPE, to efficiently search the hyperparameter space.\n",
    "3. It requires fewer trials to find optimal parameters and is adaptive(prioritizes promising hyperparameter combinations) and handles complex spaces.\n",
    "4. Is slower and can take time on CPU so I ran it on GPU."
   ]
  },
  {
   "cell_type": "markdown",
   "metadata": {
    "id": "Z-hykwinpx6N"
   },
   "source": [
    "##### Have you seen any improvement? Note down the improvement with updates Evaluation metric Score Chart."
   ]
  },
  {
   "cell_type": "markdown",
   "metadata": {
    "id": "MzVzZC6opx6N"
   },
   "source": [
    "Answer Here.:\n",
    "1. Yes, there is indeed a major improvement in accuracy, macro avg, weighted avg, F1-score of class 1 and recall of class 1.\n",
    "2. However we see a decline in F1-score of class 0 and Recall of class 0 that actually matter."
   ]
  },
  {
   "cell_type": "markdown",
   "metadata": {
    "id": "h_CCil-SKHpo"
   },
   "source": [
    "### 1. Which Evaluation metrics did you consider for a positive business impact and why?"
   ]
  },
  {
   "cell_type": "markdown",
   "metadata": {
    "id": "jHVz9hHDKFms"
   },
   "source": [
    "Answer Here.:\n",
    "1. Recall to check for how many actual unhappy or happy customers we are catching.\n",
    "2. F1-Score as it balances precision and recall and is important for dealing with imbalanced classes.\n",
    "3. Precision as it avoids acting on false alarms."
   ]
  },
  {
   "cell_type": "markdown",
   "metadata": {
    "id": "cBFFvTBNJzUa"
   },
   "source": [
    "### 2. Which ML model did you choose from the above created models as your final prediction model and why?"
   ]
  },
  {
   "cell_type": "markdown",
   "metadata": {
    "id": "6ksF5Q1LKTVm"
   },
   "source": [
    "Answer Here.:\n",
    "1. From all 3 the best one for the business needs is ***CatBoost***.\n",
    "2. Before *hyperparameter tuning*, it showed the most improvement in Recall and f1 score of class 0, i.e., the unsatisfied class.\n",
    "3. It has a better balance between precision and recall.\n",
    "4. If we expand the number of Unsatisfied customers we can have better results. "
   ]
  },
  {
   "cell_type": "markdown",
   "metadata": {
    "id": "HvGl1hHyA_VK"
   },
   "source": [
    "### 3. Explain the model which you have used and the feature importance using any model explainability tool?"
   ]
  },
  {
   "cell_type": "markdown",
   "metadata": {
    "id": "YnvVTiIxBL-C"
   },
   "source": [
    "Answer Here.:\n",
    "\n",
    "**->** We used CatBoostClassifier, a gradient boosting algorithm specially designed to:\n",
    "1. Handle categorical features automatically.\n",
    "2. Perform well with imbalanced datasets.\n",
    "3. Be robust and fast.\n",
    "\n",
    "**->** It was chosen because:\n",
    "1. It gave the best recall for Class 0 (dissatisfied customers).\n",
    "2. It works well out-of-the-box with categorical data, which our dataset has in abundance."
   ]
  },
  {
   "cell_type": "code",
   "execution_count": 356,
   "metadata": {},
   "outputs": [
    {
     "data": {
      "image/png": "[encoded data removed]",
      "text/plain": [
       "<Figure size 800x950 with 1 Axes>"
      ]
     },
     "metadata": {},
     "output_type": "display_data"
    }
   ],
   "source": [
    "import shap\n",
    "explainer = shap.TreeExplainer(best_cat)\n",
    "shap_values = explainer.shap_values(X_test_cat)\n",
    "shap.summary_plot(shap_values, X_test_cat, plot_type='bar')"
   ]
  },
  {
   "cell_type": "markdown",
   "metadata": {
    "id": "EyNgTHvd2WFk"
   },
   "source": [
    "## ***8.*** ***Future Work (Optional)***"
   ]
  },
  {
   "cell_type": "markdown",
   "metadata": {
    "id": "KH5McJBi2d8v"
   },
   "source": [
    "### 1. Save the best performing ml model in a pickle file or joblib file format for deployment process.\n"
   ]
  },
  {
   "cell_type": "code",
   "execution_count": 357,
   "metadata": {
    "id": "bQIANRl32f4J"
   },
   "outputs": [
    {
     "name": "stdout",
     "output_type": "stream",
     "text": [
      "Model saved...\n"
     ]
    }
   ],
   "source": [
    "# Save the File\n",
    "import joblib\n",
    "\n",
    "joblib.dump(best_cat, 'catboost_model.pkl')\n",
    "\n",
    "print('Model saved...')"
   ]
  },
  {
   "cell_type": "markdown",
   "metadata": {
    "id": "iW_Lq9qf2h6X"
   },
   "source": [
    "### 2. Again Load the saved model file and try to predict unseen data for a sanity check.\n"
   ]
  },
  {
   "cell_type": "code",
   "execution_count": 358,
   "metadata": {
    "id": "oEXk9ydD2nVC"
   },
   "outputs": [
    {
     "name": "stdout",
     "output_type": "stream",
     "text": [
      "Sanity Check - Evaluation from Loaded Model:\n",
      "Classification Report:\n",
      "               precision    recall  f1-score   support\n",
      "\n",
      "           0       0.78      0.17      0.28      3014\n",
      "           1       0.85      0.99      0.91     14168\n",
      "\n",
      "    accuracy                           0.85     17182\n",
      "   macro avg       0.81      0.58      0.60     17182\n",
      "weighted avg       0.84      0.85      0.80     17182\n",
      "\n",
      "Confusion Matrix:\n",
      " [[  515  2499]\n",
      " [  145 14023]]\n"
     ]
    }
   ],
   "source": [
    "# Load the File and predict unseen data.\n",
    "# loading model\n",
    "loaded_model = joblib.load('catboost_model.pkl')\n",
    "\n",
    "# Predicting the Unseen data\n",
    "y_pred_loaded = loaded_model.predict(X_test_cat)\n",
    "\n",
    "# Evaluation\n",
    "print(\"Sanity Check - Evaluation from Loaded Model:\")\n",
    "print(\"Classification Report:\\n\", classification_report(y_test_cat, y_pred_loaded))\n",
    "print(\"Confusion Matrix:\\n\", confusion_matrix(y_test_cat, y_pred_loaded))"
   ]
  },
  {
   "cell_type": "markdown",
   "metadata": {
    "id": "-Kee-DAl2viO"
   },
   "source": [
    "### ***Congrats! Your model is successfully created and ready for deployment on a live server for a real user interaction !!!***"
   ]
  },
  {
   "cell_type": "markdown",
   "metadata": {
    "id": "gCX9965dhzqZ"
   },
   "source": [
    "# **Conclusion**"
   ]
  },
  {
   "cell_type": "markdown",
   "metadata": {
    "id": "Fjb1IsQkh3yE"
   },
   "source": [
    "In this project, we built a machine learning pipeline to classify customer service satisfaction (CSAT) responses using structured and unstructured data from Flipkart’s customer service system. After extensive preprocessing, feature engineering, handling class imbalance, and model optimization, we compared multiple classifiers—Random Forest, XGBoost, and CatBoost.\n",
    "\n",
    "Among them, the CatBoost model with hyperparameter tuning delivered the best performance, achieving a high recall and F1-score for the positive (satisfied) class, which is crucial from a business impact perspective. This allows the system to effectively identify dissatisfied customers and trigger timely interventions.\n",
    "\n",
    "The final model was saved using joblib for deployment and demonstrated consistent predictions on unseen data, making it production-ready for integration into customer service tools or dashboards."
   ]
  },
  {
   "cell_type": "markdown",
   "metadata": {
    "id": "gIfDvo9L0UH2"
   },
   "source": [
    "### ***Hurrah! You have successfully completed your Machine Learning Capstone Project !!!***"
   ]
  }
 ],
 "metadata": {
  "colab": {
   "collapsed_sections": [
    "vncDsAP0Gaoa",
    "FJNUwmbgGyua",
    "w6K7xa23Elo4",
    "yQaldy8SH6Dl",
    "mDgbUHAGgjLW",
    "O_i_v8NEhb9l",
    "HhfV-JJviCcP",
    "Y3lxredqlCYt",
    "3RnN4peoiCZX",
    "x71ZqKXriCWQ",
    "7hBIi_osiCS2",
    "JlHwYmJAmNHm",
    "35m5QtbWiB9F",
    "PoPl-ycgm1ru",
    "H0kj-8xxnORC",
    "nA9Y7ga8ng1Z",
    "PBTbrJXOngz2",
    "u3PMJOP6ngxN",
    "dauF4eBmngu3",
    "bKJF3rekwFvQ",
    "MSa1f5Uengrz",
    "GF8Ens_Soomf",
    "0wOQAZs5pc--",
    "K5QZ13OEpz2H",
    "lQ7QKXXCp7Bj",
    "448CDAPjqfQr",
    "KSlN3yHqYklG",
    "t6dVpIINYklI",
    "ijmpgYnKYklI",
    "-JiQyfWJYklI",
    "EM7whBJCYoAo",
    "fge-S5ZAYoAp",
    "85gYPyotYoAp",
    "RoGjAbkUYoAp",
    "4Of9eVA-YrdM",
    "iky9q4vBYrdO",
    "F6T5p64dYrdO",
    "y-Ehk30pYrdP",
    "bamQiAODYuh1",
    "QHF8YVU7Yuh3",
    "GwzvFGzlYuh3",
    "qYpmQ266Yuh3",
    "OH-pJp9IphqM",
    "bbFf2-_FphqN",
    "_ouA3fa0phqN",
    "Seke61FWphqN",
    "PIIx-8_IphqN",
    "t27r6nlMphqO",
    "r2jJGEOYphqO",
    "b0JNsNcRphqO",
    "BZR9WyysphqO",
    "jj7wYXLtphqO",
    "eZrbJ2SmphqO",
    "rFu4xreNphqO",
    "YJ55k-q6phqO",
    "gCFgpxoyphqP",
    "OVtJsKN_phqQ",
    "lssrdh5qphqQ",
    "U2RJ9gkRphqQ",
    "1M8mcRywphqQ",
    "tgIPom80phqQ",
    "JMzcOPDDphqR",
    "x-EpHcCOp1ci",
    "X_VqEhTip1ck",
    "8zGJKyg5p1ck",
    "PVzmfK_Ep1ck",
    "n3dbpmDWp1ck",
    "ylSl6qgtp1ck",
    "ZWILFDl5p1ck",
    "M7G43BXep1ck",
    "Ag9LCva-p1cl",
    "E6MkPsBcp1cl",
    "2cELzS2fp1cl",
    "3MPXvC8up1cl",
    "NC_X3p0fY2L0",
    "UV0SzAkaZNRQ",
    "YPEH6qLeZNRQ",
    "q29F0dvdveiT",
    "EXh0U9oCveiU",
    "22aHeOlLveiV",
    "g-ATYxFrGrvw",
    "Yfr_Vlr8HBkt",
    "8yEUt7NnHlrM",
    "tEA2Xm5dHt1r",
    "I79__PHVH19G",
    "Ou-I18pAyIpj",
    "fF3858GYyt-u",
    "4_0_7-oCpUZd",
    "hwyV_J3ipUZe",
    "3yB-zSqbpUZe",
    "dEUvejAfpUZe",
    "Fd15vwWVpUZf",
    "bn_IUdTipZyH",
    "49K5P_iCpZyH",
    "Nff-vKELpZyI",
    "kLW572S8pZyI",
    "dWbDXHzopZyI",
    "yLjJCtPM0KBk",
    "xiyOF9F70UgQ",
    "7wuGOrhz0itI",
    "id1riN9m0vUs",
    "578E2V7j08f6",
    "89xtkJwZ18nB",
    "67NQN5KX2AMe",
    "Iwf50b-R2tYG",
    "GMQiZwjn3iu7",
    "WVIkgGqN3qsr",
    "XkPnILGE3zoT",
    "Hlsf0x5436Go",
    "mT9DMSJo4nBL",
    "c49ITxTc407N",
    "OeJFEK0N496M",
    "9ExmJH0g5HBk",
    "cJNqERVU536h",
    "k5UmGsbsOxih",
    "T0VqWOYE6DLQ",
    "qBMux9mC6MCf",
    "-oLEiFgy-5Pf",
    "C74aWNz2AliB",
    "2DejudWSA-a0",
    "pEMng2IbBLp7",
    "rAdphbQ9Bhjc",
    "TNVZ9zx19K6k",
    "nqoHp30x9hH9",
    "rMDnDkt2B6du",
    "yiiVWRdJDDil",
    "1UUpS68QDMuG",
    "kexQrXU-DjzY",
    "T5CmagL3EC8N",
    "BhH2vgX9EjGr",
    "qjKvONjwE8ra",
    "P1XJ9OREExlT",
    "VFOzZv6IFROw",
    "TIqpNgepFxVj",
    "VfCC591jGiD4",
    "OB4l2ZhMeS1U",
    "ArJBuiUVfxKd",
    "4qY1EAkEfxKe",
    "PiV4Ypx8fxKe",
    "TfvqoZmBfxKf",
    "dJ2tPlVmpsJ0",
    "JWYfwnehpsJ1",
    "-jK_YjpMpsJ2",
    "HAih1iBOpsJ2",
    "zVGeBEFhpsJ2",
    "bmKjuQ-FpsJ3",
    "Fze-IPXLpx6K",
    "7AN1z2sKpx6M",
    "9PIHJqyupx6M",
    "_-qAgymDpx6N",
    "Z-hykwinpx6N",
    "h_CCil-SKHpo",
    "cBFFvTBNJzUa",
    "HvGl1hHyA_VK",
    "EyNgTHvd2WFk",
    "KH5McJBi2d8v",
    "iW_Lq9qf2h6X",
    "-Kee-DAl2viO",
    "gCX9965dhzqZ",
    "gIfDvo9L0UH2"
   ],
   "private_outputs": true,
   "provenance": []
  },
  "kernelspec": {
   "display_name": "Python 3",
   "name": "python3"
  },
  "language_info": {
   "codemirror_mode": {
    "name": "ipython",
    "version": 3
   },
   "file_extension": ".py",
   "mimetype": "text/x-python",
   "name": "python",
   "nbconvert_exporter": "python",
   "pygments_lexer": "ipython3",
   "version": "3.10.9"
  }
 },
 "nbformat": 4,
 "nbformat_minor": 0
}
